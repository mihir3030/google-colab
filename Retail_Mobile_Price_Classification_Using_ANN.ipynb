{
  "nbformat": 4,
  "nbformat_minor": 0,
  "metadata": {
    "kernelspec": {
      "display_name": "Python 3",
      "language": "python",
      "name": "python3"
    },
    "language_info": {
      "codemirror_mode": {
        "name": "ipython",
        "version": 3
      },
      "file_extension": ".py",
      "mimetype": "text/x-python",
      "name": "python",
      "nbconvert_exporter": "python",
      "pygments_lexer": "ipython3",
      "version": "3.8.8"
    },
    "colab": {
      "name": "Retail - Mobile Price Classification Using ANN.ipynb",
      "provenance": [],
      "collapsed_sections": [],
      "include_colab_link": true
    }
  },
  "cells": [
    {
      "cell_type": "markdown",
      "metadata": {
        "id": "view-in-github",
        "colab_type": "text"
      },
      "source": [
        "<a href=\"https://colab.research.google.com/github/mihir3030/google-colab/blob/main/Retail_Mobile_Price_Classification_Using_ANN.ipynb\" target=\"_parent\"><img src=\"https://colab.research.google.com/assets/colab-badge.svg\" alt=\"Open In Colab\"/></a>"
      ]
    },
    {
      "cell_type": "code",
      "metadata": {
        "id": "WN0whXVI6LLH"
      },
      "source": [
        ""
      ],
      "execution_count": null,
      "outputs": []
    },
    {
      "cell_type": "code",
      "metadata": {
        "id": "8KihcD8i6DUQ"
      },
      "source": [
        "import numpy as np\n",
        "import pandas as pd\n",
        "import matplotlib.pyplot as plt\n",
        "import seaborn as sns"
      ],
      "execution_count": null,
      "outputs": []
    },
    {
      "cell_type": "code",
      "metadata": {
        "id": "Sch5_wKf6DUU"
      },
      "source": [
        "a = []\n",
        "df = pd.DataFrame()"
      ],
      "execution_count": null,
      "outputs": []
    },
    {
      "cell_type": "code",
      "metadata": {
        "id": "vg7xJzGh6DUV"
      },
      "source": [
        ""
      ],
      "execution_count": null,
      "outputs": []
    },
    {
      "cell_type": "code",
      "metadata": {
        "id": "ZpDu9oZ86DUV"
      },
      "source": [
        ""
      ],
      "execution_count": null,
      "outputs": []
    },
    {
      "cell_type": "code",
      "metadata": {
        "id": "IB-GFdB_6DUW"
      },
      "source": [
        ""
      ],
      "execution_count": null,
      "outputs": []
    },
    {
      "cell_type": "code",
      "metadata": {
        "id": "P58btGhC6DUW"
      },
      "source": [
        "x_train = pd.read_csv('train.csv')\n",
        "x_test = pd.read_csv('test.csv')"
      ],
      "execution_count": null,
      "outputs": []
    },
    {
      "cell_type": "code",
      "metadata": {
        "id": "SeL5HiO06DUX",
        "outputId": "21eff155-a63c-4056-c3c8-143534a7ebbd"
      },
      "source": [
        "x_train"
      ],
      "execution_count": null,
      "outputs": [
        {
          "data": {
            "text/html": [
              "<div>\n",
              "<style scoped>\n",
              "    .dataframe tbody tr th:only-of-type {\n",
              "        vertical-align: middle;\n",
              "    }\n",
              "\n",
              "    .dataframe tbody tr th {\n",
              "        vertical-align: top;\n",
              "    }\n",
              "\n",
              "    .dataframe thead th {\n",
              "        text-align: right;\n",
              "    }\n",
              "</style>\n",
              "<table border=\"1\" class=\"dataframe\">\n",
              "  <thead>\n",
              "    <tr style=\"text-align: right;\">\n",
              "      <th></th>\n",
              "      <th>ID</th>\n",
              "      <th>Warehouse_block</th>\n",
              "      <th>Mode_of_Shipment</th>\n",
              "      <th>Customer_care_calls</th>\n",
              "      <th>Customer_rating</th>\n",
              "      <th>Cost_of_the_Product</th>\n",
              "      <th>Prior_purchases</th>\n",
              "      <th>Product_importance</th>\n",
              "      <th>Gender</th>\n",
              "      <th>Discount_offered</th>\n",
              "      <th>Weight_in_gms</th>\n",
              "      <th>Reached.on.Time_Y.N</th>\n",
              "    </tr>\n",
              "  </thead>\n",
              "  <tbody>\n",
              "    <tr>\n",
              "      <th>0</th>\n",
              "      <td>1</td>\n",
              "      <td>D</td>\n",
              "      <td>Flight</td>\n",
              "      <td>4</td>\n",
              "      <td>2</td>\n",
              "      <td>177</td>\n",
              "      <td>3</td>\n",
              "      <td>low</td>\n",
              "      <td>F</td>\n",
              "      <td>44</td>\n",
              "      <td>1233</td>\n",
              "      <td>1</td>\n",
              "    </tr>\n",
              "    <tr>\n",
              "      <th>1</th>\n",
              "      <td>2</td>\n",
              "      <td>F</td>\n",
              "      <td>Flight</td>\n",
              "      <td>4</td>\n",
              "      <td>5</td>\n",
              "      <td>216</td>\n",
              "      <td>2</td>\n",
              "      <td>low</td>\n",
              "      <td>M</td>\n",
              "      <td>59</td>\n",
              "      <td>3088</td>\n",
              "      <td>1</td>\n",
              "    </tr>\n",
              "    <tr>\n",
              "      <th>2</th>\n",
              "      <td>3</td>\n",
              "      <td>A</td>\n",
              "      <td>Flight</td>\n",
              "      <td>2</td>\n",
              "      <td>2</td>\n",
              "      <td>183</td>\n",
              "      <td>4</td>\n",
              "      <td>low</td>\n",
              "      <td>M</td>\n",
              "      <td>48</td>\n",
              "      <td>3374</td>\n",
              "      <td>1</td>\n",
              "    </tr>\n",
              "    <tr>\n",
              "      <th>3</th>\n",
              "      <td>4</td>\n",
              "      <td>B</td>\n",
              "      <td>Flight</td>\n",
              "      <td>3</td>\n",
              "      <td>3</td>\n",
              "      <td>176</td>\n",
              "      <td>4</td>\n",
              "      <td>medium</td>\n",
              "      <td>M</td>\n",
              "      <td>10</td>\n",
              "      <td>1177</td>\n",
              "      <td>1</td>\n",
              "    </tr>\n",
              "    <tr>\n",
              "      <th>4</th>\n",
              "      <td>5</td>\n",
              "      <td>C</td>\n",
              "      <td>Flight</td>\n",
              "      <td>2</td>\n",
              "      <td>2</td>\n",
              "      <td>184</td>\n",
              "      <td>3</td>\n",
              "      <td>medium</td>\n",
              "      <td>F</td>\n",
              "      <td>46</td>\n",
              "      <td>2484</td>\n",
              "      <td>1</td>\n",
              "    </tr>\n",
              "    <tr>\n",
              "      <th>...</th>\n",
              "      <td>...</td>\n",
              "      <td>...</td>\n",
              "      <td>...</td>\n",
              "      <td>...</td>\n",
              "      <td>...</td>\n",
              "      <td>...</td>\n",
              "      <td>...</td>\n",
              "      <td>...</td>\n",
              "      <td>...</td>\n",
              "      <td>...</td>\n",
              "      <td>...</td>\n",
              "      <td>...</td>\n",
              "    </tr>\n",
              "    <tr>\n",
              "      <th>10994</th>\n",
              "      <td>10995</td>\n",
              "      <td>A</td>\n",
              "      <td>Ship</td>\n",
              "      <td>4</td>\n",
              "      <td>1</td>\n",
              "      <td>252</td>\n",
              "      <td>5</td>\n",
              "      <td>medium</td>\n",
              "      <td>F</td>\n",
              "      <td>1</td>\n",
              "      <td>1538</td>\n",
              "      <td>1</td>\n",
              "    </tr>\n",
              "    <tr>\n",
              "      <th>10995</th>\n",
              "      <td>10996</td>\n",
              "      <td>B</td>\n",
              "      <td>Ship</td>\n",
              "      <td>4</td>\n",
              "      <td>1</td>\n",
              "      <td>232</td>\n",
              "      <td>5</td>\n",
              "      <td>medium</td>\n",
              "      <td>F</td>\n",
              "      <td>6</td>\n",
              "      <td>1247</td>\n",
              "      <td>0</td>\n",
              "    </tr>\n",
              "    <tr>\n",
              "      <th>10996</th>\n",
              "      <td>10997</td>\n",
              "      <td>C</td>\n",
              "      <td>Ship</td>\n",
              "      <td>5</td>\n",
              "      <td>4</td>\n",
              "      <td>242</td>\n",
              "      <td>5</td>\n",
              "      <td>low</td>\n",
              "      <td>F</td>\n",
              "      <td>4</td>\n",
              "      <td>1155</td>\n",
              "      <td>0</td>\n",
              "    </tr>\n",
              "    <tr>\n",
              "      <th>10997</th>\n",
              "      <td>10998</td>\n",
              "      <td>F</td>\n",
              "      <td>Ship</td>\n",
              "      <td>5</td>\n",
              "      <td>2</td>\n",
              "      <td>223</td>\n",
              "      <td>6</td>\n",
              "      <td>medium</td>\n",
              "      <td>M</td>\n",
              "      <td>2</td>\n",
              "      <td>1210</td>\n",
              "      <td>0</td>\n",
              "    </tr>\n",
              "    <tr>\n",
              "      <th>10998</th>\n",
              "      <td>10999</td>\n",
              "      <td>D</td>\n",
              "      <td>Ship</td>\n",
              "      <td>2</td>\n",
              "      <td>5</td>\n",
              "      <td>155</td>\n",
              "      <td>5</td>\n",
              "      <td>low</td>\n",
              "      <td>F</td>\n",
              "      <td>6</td>\n",
              "      <td>1639</td>\n",
              "      <td>0</td>\n",
              "    </tr>\n",
              "  </tbody>\n",
              "</table>\n",
              "<p>10999 rows × 12 columns</p>\n",
              "</div>"
            ],
            "text/plain": [
              "          ID Warehouse_block Mode_of_Shipment  Customer_care_calls  \\\n",
              "0          1               D           Flight                    4   \n",
              "1          2               F           Flight                    4   \n",
              "2          3               A           Flight                    2   \n",
              "3          4               B           Flight                    3   \n",
              "4          5               C           Flight                    2   \n",
              "...      ...             ...              ...                  ...   \n",
              "10994  10995               A             Ship                    4   \n",
              "10995  10996               B             Ship                    4   \n",
              "10996  10997               C             Ship                    5   \n",
              "10997  10998               F             Ship                    5   \n",
              "10998  10999               D             Ship                    2   \n",
              "\n",
              "       Customer_rating  Cost_of_the_Product  Prior_purchases  \\\n",
              "0                    2                  177                3   \n",
              "1                    5                  216                2   \n",
              "2                    2                  183                4   \n",
              "3                    3                  176                4   \n",
              "4                    2                  184                3   \n",
              "...                ...                  ...              ...   \n",
              "10994                1                  252                5   \n",
              "10995                1                  232                5   \n",
              "10996                4                  242                5   \n",
              "10997                2                  223                6   \n",
              "10998                5                  155                5   \n",
              "\n",
              "      Product_importance Gender  Discount_offered  Weight_in_gms  \\\n",
              "0                    low      F                44           1233   \n",
              "1                    low      M                59           3088   \n",
              "2                    low      M                48           3374   \n",
              "3                 medium      M                10           1177   \n",
              "4                 medium      F                46           2484   \n",
              "...                  ...    ...               ...            ...   \n",
              "10994             medium      F                 1           1538   \n",
              "10995             medium      F                 6           1247   \n",
              "10996                low      F                 4           1155   \n",
              "10997             medium      M                 2           1210   \n",
              "10998                low      F                 6           1639   \n",
              "\n",
              "       Reached.on.Time_Y.N  \n",
              "0                        1  \n",
              "1                        1  \n",
              "2                        1  \n",
              "3                        1  \n",
              "4                        1  \n",
              "...                    ...  \n",
              "10994                    1  \n",
              "10995                    0  \n",
              "10996                    0  \n",
              "10997                    0  \n",
              "10998                    0  \n",
              "\n",
              "[10999 rows x 12 columns]"
            ]
          },
          "execution_count": 3,
          "metadata": {},
          "output_type": "execute_result"
        }
      ]
    },
    {
      "cell_type": "code",
      "metadata": {
        "id": "vEKXwLh56DUY",
        "outputId": "97d4af0e-cd4d-4bb4-97a2-1b9e5a8dda9c"
      },
      "source": [
        "x_test.head()"
      ],
      "execution_count": null,
      "outputs": [
        {
          "data": {
            "text/html": [
              "<div>\n",
              "<style scoped>\n",
              "    .dataframe tbody tr th:only-of-type {\n",
              "        vertical-align: middle;\n",
              "    }\n",
              "\n",
              "    .dataframe tbody tr th {\n",
              "        vertical-align: top;\n",
              "    }\n",
              "\n",
              "    .dataframe thead th {\n",
              "        text-align: right;\n",
              "    }\n",
              "</style>\n",
              "<table border=\"1\" class=\"dataframe\">\n",
              "  <thead>\n",
              "    <tr style=\"text-align: right;\">\n",
              "      <th></th>\n",
              "      <th>id</th>\n",
              "      <th>battery_power</th>\n",
              "      <th>blue</th>\n",
              "      <th>clock_speed</th>\n",
              "      <th>dual_sim</th>\n",
              "      <th>fc</th>\n",
              "      <th>four_g</th>\n",
              "      <th>int_memory</th>\n",
              "      <th>m_dep</th>\n",
              "      <th>mobile_wt</th>\n",
              "      <th>...</th>\n",
              "      <th>pc</th>\n",
              "      <th>px_height</th>\n",
              "      <th>px_width</th>\n",
              "      <th>ram</th>\n",
              "      <th>sc_h</th>\n",
              "      <th>sc_w</th>\n",
              "      <th>talk_time</th>\n",
              "      <th>three_g</th>\n",
              "      <th>touch_screen</th>\n",
              "      <th>wifi</th>\n",
              "    </tr>\n",
              "  </thead>\n",
              "  <tbody>\n",
              "    <tr>\n",
              "      <th>0</th>\n",
              "      <td>1</td>\n",
              "      <td>1043</td>\n",
              "      <td>1</td>\n",
              "      <td>1.8</td>\n",
              "      <td>1</td>\n",
              "      <td>14</td>\n",
              "      <td>0</td>\n",
              "      <td>5</td>\n",
              "      <td>0.1</td>\n",
              "      <td>193</td>\n",
              "      <td>...</td>\n",
              "      <td>16</td>\n",
              "      <td>226</td>\n",
              "      <td>1412</td>\n",
              "      <td>3476</td>\n",
              "      <td>12</td>\n",
              "      <td>7</td>\n",
              "      <td>2</td>\n",
              "      <td>0</td>\n",
              "      <td>1</td>\n",
              "      <td>0</td>\n",
              "    </tr>\n",
              "    <tr>\n",
              "      <th>1</th>\n",
              "      <td>2</td>\n",
              "      <td>841</td>\n",
              "      <td>1</td>\n",
              "      <td>0.5</td>\n",
              "      <td>1</td>\n",
              "      <td>4</td>\n",
              "      <td>1</td>\n",
              "      <td>61</td>\n",
              "      <td>0.8</td>\n",
              "      <td>191</td>\n",
              "      <td>...</td>\n",
              "      <td>12</td>\n",
              "      <td>746</td>\n",
              "      <td>857</td>\n",
              "      <td>3895</td>\n",
              "      <td>6</td>\n",
              "      <td>0</td>\n",
              "      <td>7</td>\n",
              "      <td>1</td>\n",
              "      <td>0</td>\n",
              "      <td>0</td>\n",
              "    </tr>\n",
              "    <tr>\n",
              "      <th>2</th>\n",
              "      <td>3</td>\n",
              "      <td>1807</td>\n",
              "      <td>1</td>\n",
              "      <td>2.8</td>\n",
              "      <td>0</td>\n",
              "      <td>1</td>\n",
              "      <td>0</td>\n",
              "      <td>27</td>\n",
              "      <td>0.9</td>\n",
              "      <td>186</td>\n",
              "      <td>...</td>\n",
              "      <td>4</td>\n",
              "      <td>1270</td>\n",
              "      <td>1366</td>\n",
              "      <td>2396</td>\n",
              "      <td>17</td>\n",
              "      <td>10</td>\n",
              "      <td>10</td>\n",
              "      <td>0</td>\n",
              "      <td>1</td>\n",
              "      <td>1</td>\n",
              "    </tr>\n",
              "    <tr>\n",
              "      <th>3</th>\n",
              "      <td>4</td>\n",
              "      <td>1546</td>\n",
              "      <td>0</td>\n",
              "      <td>0.5</td>\n",
              "      <td>1</td>\n",
              "      <td>18</td>\n",
              "      <td>1</td>\n",
              "      <td>25</td>\n",
              "      <td>0.5</td>\n",
              "      <td>96</td>\n",
              "      <td>...</td>\n",
              "      <td>20</td>\n",
              "      <td>295</td>\n",
              "      <td>1752</td>\n",
              "      <td>3893</td>\n",
              "      <td>10</td>\n",
              "      <td>0</td>\n",
              "      <td>7</td>\n",
              "      <td>1</td>\n",
              "      <td>1</td>\n",
              "      <td>0</td>\n",
              "    </tr>\n",
              "    <tr>\n",
              "      <th>4</th>\n",
              "      <td>5</td>\n",
              "      <td>1434</td>\n",
              "      <td>0</td>\n",
              "      <td>1.4</td>\n",
              "      <td>0</td>\n",
              "      <td>11</td>\n",
              "      <td>1</td>\n",
              "      <td>49</td>\n",
              "      <td>0.5</td>\n",
              "      <td>108</td>\n",
              "      <td>...</td>\n",
              "      <td>18</td>\n",
              "      <td>749</td>\n",
              "      <td>810</td>\n",
              "      <td>1773</td>\n",
              "      <td>15</td>\n",
              "      <td>8</td>\n",
              "      <td>7</td>\n",
              "      <td>1</td>\n",
              "      <td>0</td>\n",
              "      <td>1</td>\n",
              "    </tr>\n",
              "  </tbody>\n",
              "</table>\n",
              "<p>5 rows × 21 columns</p>\n",
              "</div>"
            ],
            "text/plain": [
              "   id  battery_power  blue  clock_speed  dual_sim  fc  four_g  int_memory  \\\n",
              "0   1           1043     1          1.8         1  14       0           5   \n",
              "1   2            841     1          0.5         1   4       1          61   \n",
              "2   3           1807     1          2.8         0   1       0          27   \n",
              "3   4           1546     0          0.5         1  18       1          25   \n",
              "4   5           1434     0          1.4         0  11       1          49   \n",
              "\n",
              "   m_dep  mobile_wt  ...  pc  px_height  px_width   ram  sc_h  sc_w  \\\n",
              "0    0.1        193  ...  16        226      1412  3476    12     7   \n",
              "1    0.8        191  ...  12        746       857  3895     6     0   \n",
              "2    0.9        186  ...   4       1270      1366  2396    17    10   \n",
              "3    0.5         96  ...  20        295      1752  3893    10     0   \n",
              "4    0.5        108  ...  18        749       810  1773    15     8   \n",
              "\n",
              "   talk_time  three_g  touch_screen  wifi  \n",
              "0          2        0             1     0  \n",
              "1          7        1             0     0  \n",
              "2         10        0             1     1  \n",
              "3          7        1             1     0  \n",
              "4          7        1             0     1  \n",
              "\n",
              "[5 rows x 21 columns]"
            ]
          },
          "execution_count": 4,
          "metadata": {},
          "output_type": "execute_result"
        }
      ]
    },
    {
      "cell_type": "code",
      "metadata": {
        "id": "lbTEnkpn6DUa"
      },
      "source": [
        "x_test.drop('id', axis=1, inplace=True)"
      ],
      "execution_count": null,
      "outputs": []
    },
    {
      "cell_type": "code",
      "metadata": {
        "id": "7YEWsqrn6DUb",
        "outputId": "8b7dca1b-f175-49d5-a9e7-72ec33425683"
      },
      "source": [
        "x_train.info()"
      ],
      "execution_count": null,
      "outputs": [
        {
          "name": "stdout",
          "output_type": "stream",
          "text": [
            "<class 'pandas.core.frame.DataFrame'>\n",
            "RangeIndex: 10999 entries, 0 to 10998\n",
            "Data columns (total 12 columns):\n",
            " #   Column               Non-Null Count  Dtype \n",
            "---  ------               --------------  ----- \n",
            " 0   ID                   10999 non-null  int64 \n",
            " 1   Warehouse_block      10999 non-null  object\n",
            " 2   Mode_of_Shipment     10999 non-null  object\n",
            " 3   Customer_care_calls  10999 non-null  int64 \n",
            " 4   Customer_rating      10999 non-null  int64 \n",
            " 5   Cost_of_the_Product  10999 non-null  int64 \n",
            " 6   Prior_purchases      10999 non-null  int64 \n",
            " 7   Product_importance   10999 non-null  object\n",
            " 8   Gender               10999 non-null  object\n",
            " 9   Discount_offered     10999 non-null  int64 \n",
            " 10  Weight_in_gms        10999 non-null  int64 \n",
            " 11  Reached.on.Time_Y.N  10999 non-null  int64 \n",
            "dtypes: int64(8), object(4)\n",
            "memory usage: 1.0+ MB\n"
          ]
        }
      ]
    },
    {
      "cell_type": "code",
      "metadata": {
        "id": "Y-GXgoOp6DUc",
        "outputId": "300ff6ce-d75e-40d4-f119-5b8c5f8abfc9"
      },
      "source": [
        "print(x_train.shape, x_test.shape)"
      ],
      "execution_count": null,
      "outputs": [
        {
          "name": "stdout",
          "output_type": "stream",
          "text": [
            "(10999, 12) (1000, 20)\n"
          ]
        }
      ]
    },
    {
      "cell_type": "code",
      "metadata": {
        "id": "XWMo2tS66DUc",
        "outputId": "f11ca1ff-17fb-4055-c3ac-0523d5ef4430"
      },
      "source": [
        "x_train.describe().T"
      ],
      "execution_count": null,
      "outputs": [
        {
          "data": {
            "text/html": [
              "<div>\n",
              "<style scoped>\n",
              "    .dataframe tbody tr th:only-of-type {\n",
              "        vertical-align: middle;\n",
              "    }\n",
              "\n",
              "    .dataframe tbody tr th {\n",
              "        vertical-align: top;\n",
              "    }\n",
              "\n",
              "    .dataframe thead th {\n",
              "        text-align: right;\n",
              "    }\n",
              "</style>\n",
              "<table border=\"1\" class=\"dataframe\">\n",
              "  <thead>\n",
              "    <tr style=\"text-align: right;\">\n",
              "      <th></th>\n",
              "      <th>count</th>\n",
              "      <th>mean</th>\n",
              "      <th>std</th>\n",
              "      <th>min</th>\n",
              "      <th>25%</th>\n",
              "      <th>50%</th>\n",
              "      <th>75%</th>\n",
              "      <th>max</th>\n",
              "    </tr>\n",
              "  </thead>\n",
              "  <tbody>\n",
              "    <tr>\n",
              "      <th>ID</th>\n",
              "      <td>10999.0</td>\n",
              "      <td>5500.000000</td>\n",
              "      <td>3175.282140</td>\n",
              "      <td>1.0</td>\n",
              "      <td>2750.5</td>\n",
              "      <td>5500.0</td>\n",
              "      <td>8249.5</td>\n",
              "      <td>10999.0</td>\n",
              "    </tr>\n",
              "    <tr>\n",
              "      <th>Customer_care_calls</th>\n",
              "      <td>10999.0</td>\n",
              "      <td>4.054459</td>\n",
              "      <td>1.141490</td>\n",
              "      <td>2.0</td>\n",
              "      <td>3.0</td>\n",
              "      <td>4.0</td>\n",
              "      <td>5.0</td>\n",
              "      <td>7.0</td>\n",
              "    </tr>\n",
              "    <tr>\n",
              "      <th>Customer_rating</th>\n",
              "      <td>10999.0</td>\n",
              "      <td>2.990545</td>\n",
              "      <td>1.413603</td>\n",
              "      <td>1.0</td>\n",
              "      <td>2.0</td>\n",
              "      <td>3.0</td>\n",
              "      <td>4.0</td>\n",
              "      <td>5.0</td>\n",
              "    </tr>\n",
              "    <tr>\n",
              "      <th>Cost_of_the_Product</th>\n",
              "      <td>10999.0</td>\n",
              "      <td>210.196836</td>\n",
              "      <td>48.063272</td>\n",
              "      <td>96.0</td>\n",
              "      <td>169.0</td>\n",
              "      <td>214.0</td>\n",
              "      <td>251.0</td>\n",
              "      <td>310.0</td>\n",
              "    </tr>\n",
              "    <tr>\n",
              "      <th>Prior_purchases</th>\n",
              "      <td>10999.0</td>\n",
              "      <td>3.567597</td>\n",
              "      <td>1.522860</td>\n",
              "      <td>2.0</td>\n",
              "      <td>3.0</td>\n",
              "      <td>3.0</td>\n",
              "      <td>4.0</td>\n",
              "      <td>10.0</td>\n",
              "    </tr>\n",
              "    <tr>\n",
              "      <th>Discount_offered</th>\n",
              "      <td>10999.0</td>\n",
              "      <td>13.373216</td>\n",
              "      <td>16.205527</td>\n",
              "      <td>1.0</td>\n",
              "      <td>4.0</td>\n",
              "      <td>7.0</td>\n",
              "      <td>10.0</td>\n",
              "      <td>65.0</td>\n",
              "    </tr>\n",
              "    <tr>\n",
              "      <th>Weight_in_gms</th>\n",
              "      <td>10999.0</td>\n",
              "      <td>3634.016729</td>\n",
              "      <td>1635.377251</td>\n",
              "      <td>1001.0</td>\n",
              "      <td>1839.5</td>\n",
              "      <td>4149.0</td>\n",
              "      <td>5050.0</td>\n",
              "      <td>7846.0</td>\n",
              "    </tr>\n",
              "    <tr>\n",
              "      <th>Reached.on.Time_Y.N</th>\n",
              "      <td>10999.0</td>\n",
              "      <td>0.596691</td>\n",
              "      <td>0.490584</td>\n",
              "      <td>0.0</td>\n",
              "      <td>0.0</td>\n",
              "      <td>1.0</td>\n",
              "      <td>1.0</td>\n",
              "      <td>1.0</td>\n",
              "    </tr>\n",
              "  </tbody>\n",
              "</table>\n",
              "</div>"
            ],
            "text/plain": [
              "                       count         mean          std     min     25%  \\\n",
              "ID                   10999.0  5500.000000  3175.282140     1.0  2750.5   \n",
              "Customer_care_calls  10999.0     4.054459     1.141490     2.0     3.0   \n",
              "Customer_rating      10999.0     2.990545     1.413603     1.0     2.0   \n",
              "Cost_of_the_Product  10999.0   210.196836    48.063272    96.0   169.0   \n",
              "Prior_purchases      10999.0     3.567597     1.522860     2.0     3.0   \n",
              "Discount_offered     10999.0    13.373216    16.205527     1.0     4.0   \n",
              "Weight_in_gms        10999.0  3634.016729  1635.377251  1001.0  1839.5   \n",
              "Reached.on.Time_Y.N  10999.0     0.596691     0.490584     0.0     0.0   \n",
              "\n",
              "                        50%     75%      max  \n",
              "ID                   5500.0  8249.5  10999.0  \n",
              "Customer_care_calls     4.0     5.0      7.0  \n",
              "Customer_rating         3.0     4.0      5.0  \n",
              "Cost_of_the_Product   214.0   251.0    310.0  \n",
              "Prior_purchases         3.0     4.0     10.0  \n",
              "Discount_offered        7.0    10.0     65.0  \n",
              "Weight_in_gms        4149.0  5050.0   7846.0  \n",
              "Reached.on.Time_Y.N     1.0     1.0      1.0  "
            ]
          },
          "execution_count": 13,
          "metadata": {},
          "output_type": "execute_result"
        }
      ]
    },
    {
      "cell_type": "code",
      "metadata": {
        "id": "P5MBZMAP6DUe",
        "outputId": "0396687c-5c32-48d4-96e6-26233e0dff94"
      },
      "source": [
        "plt.figure(figsize=(16, 10))\n",
        "corr = x_train.corr()\n",
        "sns.heatmap(corr, annot=True)"
      ],
      "execution_count": null,
      "outputs": [
        {
          "data": {
            "text/plain": [
              "<AxesSubplot:>"
            ]
          },
          "execution_count": 14,
          "metadata": {},
          "output_type": "execute_result"
        },
        {
          "data": {
            "image/png": "[encoded data removed]",
            "text/plain": [
              "<Figure size 1152x720 with 2 Axes>"
            ]
          },
          "metadata": {
            "needs_background": "light"
          },
          "output_type": "display_data"
        }
      ]
    },
    {
      "cell_type": "code",
      "metadata": {
        "id": "YgBqvuHa6DUf",
        "outputId": "4fdffe2a-f83a-47b7-c52c-868f6707f003"
      },
      "source": [
        "y_train = x_train['price_range']"
      ],
      "execution_count": null,
      "outputs": [
        {
          "ename": "KeyError",
          "evalue": "'price_range'",
          "output_type": "error",
          "traceback": [
            "\u001b[1;31m---------------------------------------------------------------------------\u001b[0m",
            "\u001b[1;31mKeyError\u001b[0m                                  Traceback (most recent call last)",
            "\u001b[1;32m~\\anaconda3\\lib\\site-packages\\pandas\\core\\indexes\\base.py\u001b[0m in \u001b[0;36mget_loc\u001b[1;34m(self, key, method, tolerance)\u001b[0m\n\u001b[0;32m   3079\u001b[0m             \u001b[1;32mtry\u001b[0m\u001b[1;33m:\u001b[0m\u001b[1;33m\u001b[0m\u001b[1;33m\u001b[0m\u001b[0m\n\u001b[1;32m-> 3080\u001b[1;33m                 \u001b[1;32mreturn\u001b[0m \u001b[0mself\u001b[0m\u001b[1;33m.\u001b[0m\u001b[0m_engine\u001b[0m\u001b[1;33m.\u001b[0m\u001b[0mget_loc\u001b[0m\u001b[1;33m(\u001b[0m\u001b[0mcasted_key\u001b[0m\u001b[1;33m)\u001b[0m\u001b[1;33m\u001b[0m\u001b[1;33m\u001b[0m\u001b[0m\n\u001b[0m\u001b[0;32m   3081\u001b[0m             \u001b[1;32mexcept\u001b[0m \u001b[0mKeyError\u001b[0m \u001b[1;32mas\u001b[0m \u001b[0merr\u001b[0m\u001b[1;33m:\u001b[0m\u001b[1;33m\u001b[0m\u001b[1;33m\u001b[0m\u001b[0m\n",
            "\u001b[1;32mpandas\\_libs\\index.pyx\u001b[0m in \u001b[0;36mpandas._libs.index.IndexEngine.get_loc\u001b[1;34m()\u001b[0m\n",
            "\u001b[1;32mpandas\\_libs\\index.pyx\u001b[0m in \u001b[0;36mpandas._libs.index.IndexEngine.get_loc\u001b[1;34m()\u001b[0m\n",
            "\u001b[1;32mpandas\\_libs\\hashtable_class_helper.pxi\u001b[0m in \u001b[0;36mpandas._libs.hashtable.PyObjectHashTable.get_item\u001b[1;34m()\u001b[0m\n",
            "\u001b[1;32mpandas\\_libs\\hashtable_class_helper.pxi\u001b[0m in \u001b[0;36mpandas._libs.hashtable.PyObjectHashTable.get_item\u001b[1;34m()\u001b[0m\n",
            "\u001b[1;31mKeyError\u001b[0m: 'price_range'",
            "\nThe above exception was the direct cause of the following exception:\n",
            "\u001b[1;31mKeyError\u001b[0m                                  Traceback (most recent call last)",
            "\u001b[1;32m<ipython-input-15-df1b8bfdb97d>\u001b[0m in \u001b[0;36m<module>\u001b[1;34m\u001b[0m\n\u001b[1;32m----> 1\u001b[1;33m \u001b[0my_train\u001b[0m \u001b[1;33m=\u001b[0m \u001b[0mx_train\u001b[0m\u001b[1;33m[\u001b[0m\u001b[1;34m'price_range'\u001b[0m\u001b[1;33m]\u001b[0m\u001b[1;33m\u001b[0m\u001b[1;33m\u001b[0m\u001b[0m\n\u001b[0m",
            "\u001b[1;32m~\\anaconda3\\lib\\site-packages\\pandas\\core\\frame.py\u001b[0m in \u001b[0;36m__getitem__\u001b[1;34m(self, key)\u001b[0m\n\u001b[0;32m   3022\u001b[0m             \u001b[1;32mif\u001b[0m \u001b[0mself\u001b[0m\u001b[1;33m.\u001b[0m\u001b[0mcolumns\u001b[0m\u001b[1;33m.\u001b[0m\u001b[0mnlevels\u001b[0m \u001b[1;33m>\u001b[0m \u001b[1;36m1\u001b[0m\u001b[1;33m:\u001b[0m\u001b[1;33m\u001b[0m\u001b[1;33m\u001b[0m\u001b[0m\n\u001b[0;32m   3023\u001b[0m                 \u001b[1;32mreturn\u001b[0m \u001b[0mself\u001b[0m\u001b[1;33m.\u001b[0m\u001b[0m_getitem_multilevel\u001b[0m\u001b[1;33m(\u001b[0m\u001b[0mkey\u001b[0m\u001b[1;33m)\u001b[0m\u001b[1;33m\u001b[0m\u001b[1;33m\u001b[0m\u001b[0m\n\u001b[1;32m-> 3024\u001b[1;33m             \u001b[0mindexer\u001b[0m \u001b[1;33m=\u001b[0m \u001b[0mself\u001b[0m\u001b[1;33m.\u001b[0m\u001b[0mcolumns\u001b[0m\u001b[1;33m.\u001b[0m\u001b[0mget_loc\u001b[0m\u001b[1;33m(\u001b[0m\u001b[0mkey\u001b[0m\u001b[1;33m)\u001b[0m\u001b[1;33m\u001b[0m\u001b[1;33m\u001b[0m\u001b[0m\n\u001b[0m\u001b[0;32m   3025\u001b[0m             \u001b[1;32mif\u001b[0m \u001b[0mis_integer\u001b[0m\u001b[1;33m(\u001b[0m\u001b[0mindexer\u001b[0m\u001b[1;33m)\u001b[0m\u001b[1;33m:\u001b[0m\u001b[1;33m\u001b[0m\u001b[1;33m\u001b[0m\u001b[0m\n\u001b[0;32m   3026\u001b[0m                 \u001b[0mindexer\u001b[0m \u001b[1;33m=\u001b[0m \u001b[1;33m[\u001b[0m\u001b[0mindexer\u001b[0m\u001b[1;33m]\u001b[0m\u001b[1;33m\u001b[0m\u001b[1;33m\u001b[0m\u001b[0m\n",
            "\u001b[1;32m~\\anaconda3\\lib\\site-packages\\pandas\\core\\indexes\\base.py\u001b[0m in \u001b[0;36mget_loc\u001b[1;34m(self, key, method, tolerance)\u001b[0m\n\u001b[0;32m   3080\u001b[0m                 \u001b[1;32mreturn\u001b[0m \u001b[0mself\u001b[0m\u001b[1;33m.\u001b[0m\u001b[0m_engine\u001b[0m\u001b[1;33m.\u001b[0m\u001b[0mget_loc\u001b[0m\u001b[1;33m(\u001b[0m\u001b[0mcasted_key\u001b[0m\u001b[1;33m)\u001b[0m\u001b[1;33m\u001b[0m\u001b[1;33m\u001b[0m\u001b[0m\n\u001b[0;32m   3081\u001b[0m             \u001b[1;32mexcept\u001b[0m \u001b[0mKeyError\u001b[0m \u001b[1;32mas\u001b[0m \u001b[0merr\u001b[0m\u001b[1;33m:\u001b[0m\u001b[1;33m\u001b[0m\u001b[1;33m\u001b[0m\u001b[0m\n\u001b[1;32m-> 3082\u001b[1;33m                 \u001b[1;32mraise\u001b[0m \u001b[0mKeyError\u001b[0m\u001b[1;33m(\u001b[0m\u001b[0mkey\u001b[0m\u001b[1;33m)\u001b[0m \u001b[1;32mfrom\u001b[0m \u001b[0merr\u001b[0m\u001b[1;33m\u001b[0m\u001b[1;33m\u001b[0m\u001b[0m\n\u001b[0m\u001b[0;32m   3083\u001b[0m \u001b[1;33m\u001b[0m\u001b[0m\n\u001b[0;32m   3084\u001b[0m         \u001b[1;32mif\u001b[0m \u001b[0mtolerance\u001b[0m \u001b[1;32mis\u001b[0m \u001b[1;32mnot\u001b[0m \u001b[1;32mNone\u001b[0m\u001b[1;33m:\u001b[0m\u001b[1;33m\u001b[0m\u001b[1;33m\u001b[0m\u001b[0m\n",
            "\u001b[1;31mKeyError\u001b[0m: 'price_range'"
          ]
        }
      ]
    },
    {
      "cell_type": "code",
      "metadata": {
        "id": "bdpwT2P36DUf",
        "outputId": "7a24c9a9-cfae-49fd-fdfc-dc9256006a42"
      },
      "source": [
        "y_train"
      ],
      "execution_count": null,
      "outputs": [
        {
          "ename": "NameError",
          "evalue": "name 'y_train' is not defined",
          "output_type": "error",
          "traceback": [
            "\u001b[1;31m---------------------------------------------------------------------------\u001b[0m",
            "\u001b[1;31mNameError\u001b[0m                                 Traceback (most recent call last)",
            "\u001b[1;32m<ipython-input-16-f56205002e60>\u001b[0m in \u001b[0;36m<module>\u001b[1;34m\u001b[0m\n\u001b[1;32m----> 1\u001b[1;33m \u001b[0my_train\u001b[0m\u001b[1;33m\u001b[0m\u001b[1;33m\u001b[0m\u001b[0m\n\u001b[0m",
            "\u001b[1;31mNameError\u001b[0m: name 'y_train' is not defined"
          ]
        }
      ]
    },
    {
      "cell_type": "code",
      "metadata": {
        "id": "8b5DUR1z6DUg"
      },
      "source": [
        "x_train.drop('price_range', axis=1, inplace=True)"
      ],
      "execution_count": null,
      "outputs": []
    },
    {
      "cell_type": "code",
      "metadata": {
        "id": "bv8c3Gc06DUg",
        "outputId": "86defd41-efec-4a42-8592-d7cda3cee41e"
      },
      "source": [
        "corr"
      ],
      "execution_count": null,
      "outputs": [
        {
          "data": {
            "text/html": [
              "<div>\n",
              "<style scoped>\n",
              "    .dataframe tbody tr th:only-of-type {\n",
              "        vertical-align: middle;\n",
              "    }\n",
              "\n",
              "    .dataframe tbody tr th {\n",
              "        vertical-align: top;\n",
              "    }\n",
              "\n",
              "    .dataframe thead th {\n",
              "        text-align: right;\n",
              "    }\n",
              "</style>\n",
              "<table border=\"1\" class=\"dataframe\">\n",
              "  <thead>\n",
              "    <tr style=\"text-align: right;\">\n",
              "      <th></th>\n",
              "      <th>battery_power</th>\n",
              "      <th>blue</th>\n",
              "      <th>clock_speed</th>\n",
              "      <th>dual_sim</th>\n",
              "      <th>fc</th>\n",
              "      <th>four_g</th>\n",
              "      <th>int_memory</th>\n",
              "      <th>m_dep</th>\n",
              "      <th>mobile_wt</th>\n",
              "      <th>n_cores</th>\n",
              "      <th>...</th>\n",
              "      <th>px_height</th>\n",
              "      <th>px_width</th>\n",
              "      <th>ram</th>\n",
              "      <th>sc_h</th>\n",
              "      <th>sc_w</th>\n",
              "      <th>talk_time</th>\n",
              "      <th>three_g</th>\n",
              "      <th>touch_screen</th>\n",
              "      <th>wifi</th>\n",
              "      <th>price_range</th>\n",
              "    </tr>\n",
              "  </thead>\n",
              "  <tbody>\n",
              "    <tr>\n",
              "      <th>battery_power</th>\n",
              "      <td>1.000000</td>\n",
              "      <td>0.011252</td>\n",
              "      <td>0.011482</td>\n",
              "      <td>-0.041847</td>\n",
              "      <td>0.033334</td>\n",
              "      <td>0.015665</td>\n",
              "      <td>-0.004004</td>\n",
              "      <td>0.034085</td>\n",
              "      <td>0.001844</td>\n",
              "      <td>-0.029727</td>\n",
              "      <td>...</td>\n",
              "      <td>0.014901</td>\n",
              "      <td>-0.008402</td>\n",
              "      <td>-0.000653</td>\n",
              "      <td>-0.029959</td>\n",
              "      <td>-0.021421</td>\n",
              "      <td>0.052510</td>\n",
              "      <td>0.011522</td>\n",
              "      <td>-0.010516</td>\n",
              "      <td>-0.008343</td>\n",
              "      <td>0.200723</td>\n",
              "    </tr>\n",
              "    <tr>\n",
              "      <th>blue</th>\n",
              "      <td>0.011252</td>\n",
              "      <td>1.000000</td>\n",
              "      <td>0.021419</td>\n",
              "      <td>0.035198</td>\n",
              "      <td>0.003593</td>\n",
              "      <td>0.013443</td>\n",
              "      <td>0.041177</td>\n",
              "      <td>0.004049</td>\n",
              "      <td>-0.008605</td>\n",
              "      <td>0.036161</td>\n",
              "      <td>...</td>\n",
              "      <td>-0.006872</td>\n",
              "      <td>-0.041533</td>\n",
              "      <td>0.026351</td>\n",
              "      <td>-0.002952</td>\n",
              "      <td>0.000613</td>\n",
              "      <td>0.013934</td>\n",
              "      <td>-0.030236</td>\n",
              "      <td>0.010061</td>\n",
              "      <td>-0.021863</td>\n",
              "      <td>0.020573</td>\n",
              "    </tr>\n",
              "    <tr>\n",
              "      <th>clock_speed</th>\n",
              "      <td>0.011482</td>\n",
              "      <td>0.021419</td>\n",
              "      <td>1.000000</td>\n",
              "      <td>-0.001315</td>\n",
              "      <td>-0.000434</td>\n",
              "      <td>-0.043073</td>\n",
              "      <td>0.006545</td>\n",
              "      <td>-0.014364</td>\n",
              "      <td>0.012350</td>\n",
              "      <td>-0.005724</td>\n",
              "      <td>...</td>\n",
              "      <td>-0.014523</td>\n",
              "      <td>-0.009476</td>\n",
              "      <td>0.003443</td>\n",
              "      <td>-0.029078</td>\n",
              "      <td>-0.007378</td>\n",
              "      <td>-0.011432</td>\n",
              "      <td>-0.046433</td>\n",
              "      <td>0.019756</td>\n",
              "      <td>-0.024471</td>\n",
              "      <td>-0.006606</td>\n",
              "    </tr>\n",
              "    <tr>\n",
              "      <th>dual_sim</th>\n",
              "      <td>-0.041847</td>\n",
              "      <td>0.035198</td>\n",
              "      <td>-0.001315</td>\n",
              "      <td>1.000000</td>\n",
              "      <td>-0.029123</td>\n",
              "      <td>0.003187</td>\n",
              "      <td>-0.015679</td>\n",
              "      <td>-0.022142</td>\n",
              "      <td>-0.008979</td>\n",
              "      <td>-0.024658</td>\n",
              "      <td>...</td>\n",
              "      <td>-0.020875</td>\n",
              "      <td>0.014291</td>\n",
              "      <td>0.041072</td>\n",
              "      <td>-0.011949</td>\n",
              "      <td>-0.016666</td>\n",
              "      <td>-0.039404</td>\n",
              "      <td>-0.014008</td>\n",
              "      <td>-0.017117</td>\n",
              "      <td>0.022740</td>\n",
              "      <td>0.017444</td>\n",
              "    </tr>\n",
              "    <tr>\n",
              "      <th>fc</th>\n",
              "      <td>0.033334</td>\n",
              "      <td>0.003593</td>\n",
              "      <td>-0.000434</td>\n",
              "      <td>-0.029123</td>\n",
              "      <td>1.000000</td>\n",
              "      <td>-0.016560</td>\n",
              "      <td>-0.029133</td>\n",
              "      <td>-0.001791</td>\n",
              "      <td>0.023618</td>\n",
              "      <td>-0.013356</td>\n",
              "      <td>...</td>\n",
              "      <td>-0.009990</td>\n",
              "      <td>-0.005176</td>\n",
              "      <td>0.015099</td>\n",
              "      <td>-0.011014</td>\n",
              "      <td>-0.012373</td>\n",
              "      <td>-0.006829</td>\n",
              "      <td>0.001793</td>\n",
              "      <td>-0.014828</td>\n",
              "      <td>0.020085</td>\n",
              "      <td>0.021998</td>\n",
              "    </tr>\n",
              "    <tr>\n",
              "      <th>four_g</th>\n",
              "      <td>0.015665</td>\n",
              "      <td>0.013443</td>\n",
              "      <td>-0.043073</td>\n",
              "      <td>0.003187</td>\n",
              "      <td>-0.016560</td>\n",
              "      <td>1.000000</td>\n",
              "      <td>0.008690</td>\n",
              "      <td>-0.001823</td>\n",
              "      <td>-0.016537</td>\n",
              "      <td>-0.029706</td>\n",
              "      <td>...</td>\n",
              "      <td>-0.019236</td>\n",
              "      <td>0.007448</td>\n",
              "      <td>0.007313</td>\n",
              "      <td>0.027166</td>\n",
              "      <td>0.037005</td>\n",
              "      <td>-0.046628</td>\n",
              "      <td>0.584246</td>\n",
              "      <td>0.016758</td>\n",
              "      <td>-0.017620</td>\n",
              "      <td>0.014772</td>\n",
              "    </tr>\n",
              "    <tr>\n",
              "      <th>int_memory</th>\n",
              "      <td>-0.004004</td>\n",
              "      <td>0.041177</td>\n",
              "      <td>0.006545</td>\n",
              "      <td>-0.015679</td>\n",
              "      <td>-0.029133</td>\n",
              "      <td>0.008690</td>\n",
              "      <td>1.000000</td>\n",
              "      <td>0.006886</td>\n",
              "      <td>-0.034214</td>\n",
              "      <td>-0.028310</td>\n",
              "      <td>...</td>\n",
              "      <td>0.010441</td>\n",
              "      <td>-0.008335</td>\n",
              "      <td>0.032813</td>\n",
              "      <td>0.037771</td>\n",
              "      <td>0.011731</td>\n",
              "      <td>-0.002790</td>\n",
              "      <td>-0.009366</td>\n",
              "      <td>-0.026999</td>\n",
              "      <td>0.006993</td>\n",
              "      <td>0.044435</td>\n",
              "    </tr>\n",
              "    <tr>\n",
              "      <th>m_dep</th>\n",
              "      <td>0.034085</td>\n",
              "      <td>0.004049</td>\n",
              "      <td>-0.014364</td>\n",
              "      <td>-0.022142</td>\n",
              "      <td>-0.001791</td>\n",
              "      <td>-0.001823</td>\n",
              "      <td>0.006886</td>\n",
              "      <td>1.000000</td>\n",
              "      <td>0.021756</td>\n",
              "      <td>-0.003504</td>\n",
              "      <td>...</td>\n",
              "      <td>0.025263</td>\n",
              "      <td>0.023566</td>\n",
              "      <td>-0.009434</td>\n",
              "      <td>-0.025348</td>\n",
              "      <td>-0.018388</td>\n",
              "      <td>0.017003</td>\n",
              "      <td>-0.012065</td>\n",
              "      <td>-0.002638</td>\n",
              "      <td>-0.028353</td>\n",
              "      <td>0.000853</td>\n",
              "    </tr>\n",
              "    <tr>\n",
              "      <th>mobile_wt</th>\n",
              "      <td>0.001844</td>\n",
              "      <td>-0.008605</td>\n",
              "      <td>0.012350</td>\n",
              "      <td>-0.008979</td>\n",
              "      <td>0.023618</td>\n",
              "      <td>-0.016537</td>\n",
              "      <td>-0.034214</td>\n",
              "      <td>0.021756</td>\n",
              "      <td>1.000000</td>\n",
              "      <td>-0.018989</td>\n",
              "      <td>...</td>\n",
              "      <td>0.000939</td>\n",
              "      <td>0.000090</td>\n",
              "      <td>-0.002581</td>\n",
              "      <td>-0.033855</td>\n",
              "      <td>-0.020761</td>\n",
              "      <td>0.006209</td>\n",
              "      <td>0.001551</td>\n",
              "      <td>-0.014368</td>\n",
              "      <td>-0.000409</td>\n",
              "      <td>-0.030302</td>\n",
              "    </tr>\n",
              "    <tr>\n",
              "      <th>n_cores</th>\n",
              "      <td>-0.029727</td>\n",
              "      <td>0.036161</td>\n",
              "      <td>-0.005724</td>\n",
              "      <td>-0.024658</td>\n",
              "      <td>-0.013356</td>\n",
              "      <td>-0.029706</td>\n",
              "      <td>-0.028310</td>\n",
              "      <td>-0.003504</td>\n",
              "      <td>-0.018989</td>\n",
              "      <td>1.000000</td>\n",
              "      <td>...</td>\n",
              "      <td>-0.006872</td>\n",
              "      <td>0.024480</td>\n",
              "      <td>0.004868</td>\n",
              "      <td>-0.000315</td>\n",
              "      <td>0.025826</td>\n",
              "      <td>0.013148</td>\n",
              "      <td>-0.014733</td>\n",
              "      <td>0.023774</td>\n",
              "      <td>-0.009964</td>\n",
              "      <td>0.004399</td>\n",
              "    </tr>\n",
              "    <tr>\n",
              "      <th>pc</th>\n",
              "      <td>0.031441</td>\n",
              "      <td>-0.009952</td>\n",
              "      <td>-0.005245</td>\n",
              "      <td>-0.017143</td>\n",
              "      <td>0.644595</td>\n",
              "      <td>-0.005598</td>\n",
              "      <td>-0.033273</td>\n",
              "      <td>0.026282</td>\n",
              "      <td>0.018844</td>\n",
              "      <td>-0.001193</td>\n",
              "      <td>...</td>\n",
              "      <td>-0.018465</td>\n",
              "      <td>0.004196</td>\n",
              "      <td>0.028984</td>\n",
              "      <td>0.004938</td>\n",
              "      <td>-0.023819</td>\n",
              "      <td>0.014657</td>\n",
              "      <td>-0.001322</td>\n",
              "      <td>-0.008742</td>\n",
              "      <td>0.005389</td>\n",
              "      <td>0.033599</td>\n",
              "    </tr>\n",
              "    <tr>\n",
              "      <th>px_height</th>\n",
              "      <td>0.014901</td>\n",
              "      <td>-0.006872</td>\n",
              "      <td>-0.014523</td>\n",
              "      <td>-0.020875</td>\n",
              "      <td>-0.009990</td>\n",
              "      <td>-0.019236</td>\n",
              "      <td>0.010441</td>\n",
              "      <td>0.025263</td>\n",
              "      <td>0.000939</td>\n",
              "      <td>-0.006872</td>\n",
              "      <td>...</td>\n",
              "      <td>1.000000</td>\n",
              "      <td>0.510664</td>\n",
              "      <td>-0.020352</td>\n",
              "      <td>0.059615</td>\n",
              "      <td>0.043038</td>\n",
              "      <td>-0.010645</td>\n",
              "      <td>-0.031174</td>\n",
              "      <td>0.021891</td>\n",
              "      <td>0.051824</td>\n",
              "      <td>0.148858</td>\n",
              "    </tr>\n",
              "    <tr>\n",
              "      <th>px_width</th>\n",
              "      <td>-0.008402</td>\n",
              "      <td>-0.041533</td>\n",
              "      <td>-0.009476</td>\n",
              "      <td>0.014291</td>\n",
              "      <td>-0.005176</td>\n",
              "      <td>0.007448</td>\n",
              "      <td>-0.008335</td>\n",
              "      <td>0.023566</td>\n",
              "      <td>0.000090</td>\n",
              "      <td>0.024480</td>\n",
              "      <td>...</td>\n",
              "      <td>0.510664</td>\n",
              "      <td>1.000000</td>\n",
              "      <td>0.004105</td>\n",
              "      <td>0.021599</td>\n",
              "      <td>0.034699</td>\n",
              "      <td>0.006720</td>\n",
              "      <td>0.000350</td>\n",
              "      <td>-0.001628</td>\n",
              "      <td>0.030319</td>\n",
              "      <td>0.165818</td>\n",
              "    </tr>\n",
              "    <tr>\n",
              "      <th>ram</th>\n",
              "      <td>-0.000653</td>\n",
              "      <td>0.026351</td>\n",
              "      <td>0.003443</td>\n",
              "      <td>0.041072</td>\n",
              "      <td>0.015099</td>\n",
              "      <td>0.007313</td>\n",
              "      <td>0.032813</td>\n",
              "      <td>-0.009434</td>\n",
              "      <td>-0.002581</td>\n",
              "      <td>0.004868</td>\n",
              "      <td>...</td>\n",
              "      <td>-0.020352</td>\n",
              "      <td>0.004105</td>\n",
              "      <td>1.000000</td>\n",
              "      <td>0.015996</td>\n",
              "      <td>0.035576</td>\n",
              "      <td>0.010820</td>\n",
              "      <td>0.015795</td>\n",
              "      <td>-0.030455</td>\n",
              "      <td>0.022669</td>\n",
              "      <td>0.917046</td>\n",
              "    </tr>\n",
              "    <tr>\n",
              "      <th>sc_h</th>\n",
              "      <td>-0.029959</td>\n",
              "      <td>-0.002952</td>\n",
              "      <td>-0.029078</td>\n",
              "      <td>-0.011949</td>\n",
              "      <td>-0.011014</td>\n",
              "      <td>0.027166</td>\n",
              "      <td>0.037771</td>\n",
              "      <td>-0.025348</td>\n",
              "      <td>-0.033855</td>\n",
              "      <td>-0.000315</td>\n",
              "      <td>...</td>\n",
              "      <td>0.059615</td>\n",
              "      <td>0.021599</td>\n",
              "      <td>0.015996</td>\n",
              "      <td>1.000000</td>\n",
              "      <td>0.506144</td>\n",
              "      <td>-0.017335</td>\n",
              "      <td>0.012033</td>\n",
              "      <td>-0.020023</td>\n",
              "      <td>0.025929</td>\n",
              "      <td>0.022986</td>\n",
              "    </tr>\n",
              "    <tr>\n",
              "      <th>sc_w</th>\n",
              "      <td>-0.021421</td>\n",
              "      <td>0.000613</td>\n",
              "      <td>-0.007378</td>\n",
              "      <td>-0.016666</td>\n",
              "      <td>-0.012373</td>\n",
              "      <td>0.037005</td>\n",
              "      <td>0.011731</td>\n",
              "      <td>-0.018388</td>\n",
              "      <td>-0.020761</td>\n",
              "      <td>0.025826</td>\n",
              "      <td>...</td>\n",
              "      <td>0.043038</td>\n",
              "      <td>0.034699</td>\n",
              "      <td>0.035576</td>\n",
              "      <td>0.506144</td>\n",
              "      <td>1.000000</td>\n",
              "      <td>-0.022821</td>\n",
              "      <td>0.030941</td>\n",
              "      <td>0.012720</td>\n",
              "      <td>0.035423</td>\n",
              "      <td>0.038711</td>\n",
              "    </tr>\n",
              "    <tr>\n",
              "      <th>talk_time</th>\n",
              "      <td>0.052510</td>\n",
              "      <td>0.013934</td>\n",
              "      <td>-0.011432</td>\n",
              "      <td>-0.039404</td>\n",
              "      <td>-0.006829</td>\n",
              "      <td>-0.046628</td>\n",
              "      <td>-0.002790</td>\n",
              "      <td>0.017003</td>\n",
              "      <td>0.006209</td>\n",
              "      <td>0.013148</td>\n",
              "      <td>...</td>\n",
              "      <td>-0.010645</td>\n",
              "      <td>0.006720</td>\n",
              "      <td>0.010820</td>\n",
              "      <td>-0.017335</td>\n",
              "      <td>-0.022821</td>\n",
              "      <td>1.000000</td>\n",
              "      <td>-0.042688</td>\n",
              "      <td>0.017196</td>\n",
              "      <td>-0.029504</td>\n",
              "      <td>0.021859</td>\n",
              "    </tr>\n",
              "    <tr>\n",
              "      <th>three_g</th>\n",
              "      <td>0.011522</td>\n",
              "      <td>-0.030236</td>\n",
              "      <td>-0.046433</td>\n",
              "      <td>-0.014008</td>\n",
              "      <td>0.001793</td>\n",
              "      <td>0.584246</td>\n",
              "      <td>-0.009366</td>\n",
              "      <td>-0.012065</td>\n",
              "      <td>0.001551</td>\n",
              "      <td>-0.014733</td>\n",
              "      <td>...</td>\n",
              "      <td>-0.031174</td>\n",
              "      <td>0.000350</td>\n",
              "      <td>0.015795</td>\n",
              "      <td>0.012033</td>\n",
              "      <td>0.030941</td>\n",
              "      <td>-0.042688</td>\n",
              "      <td>1.000000</td>\n",
              "      <td>0.013917</td>\n",
              "      <td>0.004316</td>\n",
              "      <td>0.023611</td>\n",
              "    </tr>\n",
              "    <tr>\n",
              "      <th>touch_screen</th>\n",
              "      <td>-0.010516</td>\n",
              "      <td>0.010061</td>\n",
              "      <td>0.019756</td>\n",
              "      <td>-0.017117</td>\n",
              "      <td>-0.014828</td>\n",
              "      <td>0.016758</td>\n",
              "      <td>-0.026999</td>\n",
              "      <td>-0.002638</td>\n",
              "      <td>-0.014368</td>\n",
              "      <td>0.023774</td>\n",
              "      <td>...</td>\n",
              "      <td>0.021891</td>\n",
              "      <td>-0.001628</td>\n",
              "      <td>-0.030455</td>\n",
              "      <td>-0.020023</td>\n",
              "      <td>0.012720</td>\n",
              "      <td>0.017196</td>\n",
              "      <td>0.013917</td>\n",
              "      <td>1.000000</td>\n",
              "      <td>0.011917</td>\n",
              "      <td>-0.030411</td>\n",
              "    </tr>\n",
              "    <tr>\n",
              "      <th>wifi</th>\n",
              "      <td>-0.008343</td>\n",
              "      <td>-0.021863</td>\n",
              "      <td>-0.024471</td>\n",
              "      <td>0.022740</td>\n",
              "      <td>0.020085</td>\n",
              "      <td>-0.017620</td>\n",
              "      <td>0.006993</td>\n",
              "      <td>-0.028353</td>\n",
              "      <td>-0.000409</td>\n",
              "      <td>-0.009964</td>\n",
              "      <td>...</td>\n",
              "      <td>0.051824</td>\n",
              "      <td>0.030319</td>\n",
              "      <td>0.022669</td>\n",
              "      <td>0.025929</td>\n",
              "      <td>0.035423</td>\n",
              "      <td>-0.029504</td>\n",
              "      <td>0.004316</td>\n",
              "      <td>0.011917</td>\n",
              "      <td>1.000000</td>\n",
              "      <td>0.018785</td>\n",
              "    </tr>\n",
              "    <tr>\n",
              "      <th>price_range</th>\n",
              "      <td>0.200723</td>\n",
              "      <td>0.020573</td>\n",
              "      <td>-0.006606</td>\n",
              "      <td>0.017444</td>\n",
              "      <td>0.021998</td>\n",
              "      <td>0.014772</td>\n",
              "      <td>0.044435</td>\n",
              "      <td>0.000853</td>\n",
              "      <td>-0.030302</td>\n",
              "      <td>0.004399</td>\n",
              "      <td>...</td>\n",
              "      <td>0.148858</td>\n",
              "      <td>0.165818</td>\n",
              "      <td>0.917046</td>\n",
              "      <td>0.022986</td>\n",
              "      <td>0.038711</td>\n",
              "      <td>0.021859</td>\n",
              "      <td>0.023611</td>\n",
              "      <td>-0.030411</td>\n",
              "      <td>0.018785</td>\n",
              "      <td>1.000000</td>\n",
              "    </tr>\n",
              "  </tbody>\n",
              "</table>\n",
              "<p>21 rows × 21 columns</p>\n",
              "</div>"
            ],
            "text/plain": [
              "               battery_power      blue  clock_speed  dual_sim        fc  \\\n",
              "battery_power       1.000000  0.011252     0.011482 -0.041847  0.033334   \n",
              "blue                0.011252  1.000000     0.021419  0.035198  0.003593   \n",
              "clock_speed         0.011482  0.021419     1.000000 -0.001315 -0.000434   \n",
              "dual_sim           -0.041847  0.035198    -0.001315  1.000000 -0.029123   \n",
              "fc                  0.033334  0.003593    -0.000434 -0.029123  1.000000   \n",
              "four_g              0.015665  0.013443    -0.043073  0.003187 -0.016560   \n",
              "int_memory         -0.004004  0.041177     0.006545 -0.015679 -0.029133   \n",
              "m_dep               0.034085  0.004049    -0.014364 -0.022142 -0.001791   \n",
              "mobile_wt           0.001844 -0.008605     0.012350 -0.008979  0.023618   \n",
              "n_cores            -0.029727  0.036161    -0.005724 -0.024658 -0.013356   \n",
              "pc                  0.031441 -0.009952    -0.005245 -0.017143  0.644595   \n",
              "px_height           0.014901 -0.006872    -0.014523 -0.020875 -0.009990   \n",
              "px_width           -0.008402 -0.041533    -0.009476  0.014291 -0.005176   \n",
              "ram                -0.000653  0.026351     0.003443  0.041072  0.015099   \n",
              "sc_h               -0.029959 -0.002952    -0.029078 -0.011949 -0.011014   \n",
              "sc_w               -0.021421  0.000613    -0.007378 -0.016666 -0.012373   \n",
              "talk_time           0.052510  0.013934    -0.011432 -0.039404 -0.006829   \n",
              "three_g             0.011522 -0.030236    -0.046433 -0.014008  0.001793   \n",
              "touch_screen       -0.010516  0.010061     0.019756 -0.017117 -0.014828   \n",
              "wifi               -0.008343 -0.021863    -0.024471  0.022740  0.020085   \n",
              "price_range         0.200723  0.020573    -0.006606  0.017444  0.021998   \n",
              "\n",
              "                 four_g  int_memory     m_dep  mobile_wt   n_cores  ...  \\\n",
              "battery_power  0.015665   -0.004004  0.034085   0.001844 -0.029727  ...   \n",
              "blue           0.013443    0.041177  0.004049  -0.008605  0.036161  ...   \n",
              "clock_speed   -0.043073    0.006545 -0.014364   0.012350 -0.005724  ...   \n",
              "dual_sim       0.003187   -0.015679 -0.022142  -0.008979 -0.024658  ...   \n",
              "fc            -0.016560   -0.029133 -0.001791   0.023618 -0.013356  ...   \n",
              "four_g         1.000000    0.008690 -0.001823  -0.016537 -0.029706  ...   \n",
              "int_memory     0.008690    1.000000  0.006886  -0.034214 -0.028310  ...   \n",
              "m_dep         -0.001823    0.006886  1.000000   0.021756 -0.003504  ...   \n",
              "mobile_wt     -0.016537   -0.034214  0.021756   1.000000 -0.018989  ...   \n",
              "n_cores       -0.029706   -0.028310 -0.003504  -0.018989  1.000000  ...   \n",
              "pc            -0.005598   -0.033273  0.026282   0.018844 -0.001193  ...   \n",
              "px_height     -0.019236    0.010441  0.025263   0.000939 -0.006872  ...   \n",
              "px_width       0.007448   -0.008335  0.023566   0.000090  0.024480  ...   \n",
              "ram            0.007313    0.032813 -0.009434  -0.002581  0.004868  ...   \n",
              "sc_h           0.027166    0.037771 -0.025348  -0.033855 -0.000315  ...   \n",
              "sc_w           0.037005    0.011731 -0.018388  -0.020761  0.025826  ...   \n",
              "talk_time     -0.046628   -0.002790  0.017003   0.006209  0.013148  ...   \n",
              "three_g        0.584246   -0.009366 -0.012065   0.001551 -0.014733  ...   \n",
              "touch_screen   0.016758   -0.026999 -0.002638  -0.014368  0.023774  ...   \n",
              "wifi          -0.017620    0.006993 -0.028353  -0.000409 -0.009964  ...   \n",
              "price_range    0.014772    0.044435  0.000853  -0.030302  0.004399  ...   \n",
              "\n",
              "               px_height  px_width       ram      sc_h      sc_w  talk_time  \\\n",
              "battery_power   0.014901 -0.008402 -0.000653 -0.029959 -0.021421   0.052510   \n",
              "blue           -0.006872 -0.041533  0.026351 -0.002952  0.000613   0.013934   \n",
              "clock_speed    -0.014523 -0.009476  0.003443 -0.029078 -0.007378  -0.011432   \n",
              "dual_sim       -0.020875  0.014291  0.041072 -0.011949 -0.016666  -0.039404   \n",
              "fc             -0.009990 -0.005176  0.015099 -0.011014 -0.012373  -0.006829   \n",
              "four_g         -0.019236  0.007448  0.007313  0.027166  0.037005  -0.046628   \n",
              "int_memory      0.010441 -0.008335  0.032813  0.037771  0.011731  -0.002790   \n",
              "m_dep           0.025263  0.023566 -0.009434 -0.025348 -0.018388   0.017003   \n",
              "mobile_wt       0.000939  0.000090 -0.002581 -0.033855 -0.020761   0.006209   \n",
              "n_cores        -0.006872  0.024480  0.004868 -0.000315  0.025826   0.013148   \n",
              "pc             -0.018465  0.004196  0.028984  0.004938 -0.023819   0.014657   \n",
              "px_height       1.000000  0.510664 -0.020352  0.059615  0.043038  -0.010645   \n",
              "px_width        0.510664  1.000000  0.004105  0.021599  0.034699   0.006720   \n",
              "ram            -0.020352  0.004105  1.000000  0.015996  0.035576   0.010820   \n",
              "sc_h            0.059615  0.021599  0.015996  1.000000  0.506144  -0.017335   \n",
              "sc_w            0.043038  0.034699  0.035576  0.506144  1.000000  -0.022821   \n",
              "talk_time      -0.010645  0.006720  0.010820 -0.017335 -0.022821   1.000000   \n",
              "three_g        -0.031174  0.000350  0.015795  0.012033  0.030941  -0.042688   \n",
              "touch_screen    0.021891 -0.001628 -0.030455 -0.020023  0.012720   0.017196   \n",
              "wifi            0.051824  0.030319  0.022669  0.025929  0.035423  -0.029504   \n",
              "price_range     0.148858  0.165818  0.917046  0.022986  0.038711   0.021859   \n",
              "\n",
              "                three_g  touch_screen      wifi  price_range  \n",
              "battery_power  0.011522     -0.010516 -0.008343     0.200723  \n",
              "blue          -0.030236      0.010061 -0.021863     0.020573  \n",
              "clock_speed   -0.046433      0.019756 -0.024471    -0.006606  \n",
              "dual_sim      -0.014008     -0.017117  0.022740     0.017444  \n",
              "fc             0.001793     -0.014828  0.020085     0.021998  \n",
              "four_g         0.584246      0.016758 -0.017620     0.014772  \n",
              "int_memory    -0.009366     -0.026999  0.006993     0.044435  \n",
              "m_dep         -0.012065     -0.002638 -0.028353     0.000853  \n",
              "mobile_wt      0.001551     -0.014368 -0.000409    -0.030302  \n",
              "n_cores       -0.014733      0.023774 -0.009964     0.004399  \n",
              "pc            -0.001322     -0.008742  0.005389     0.033599  \n",
              "px_height     -0.031174      0.021891  0.051824     0.148858  \n",
              "px_width       0.000350     -0.001628  0.030319     0.165818  \n",
              "ram            0.015795     -0.030455  0.022669     0.917046  \n",
              "sc_h           0.012033     -0.020023  0.025929     0.022986  \n",
              "sc_w           0.030941      0.012720  0.035423     0.038711  \n",
              "talk_time     -0.042688      0.017196 -0.029504     0.021859  \n",
              "three_g        1.000000      0.013917  0.004316     0.023611  \n",
              "touch_screen   0.013917      1.000000  0.011917    -0.030411  \n",
              "wifi           0.004316      0.011917  1.000000     0.018785  \n",
              "price_range    0.023611     -0.030411  0.018785     1.000000  \n",
              "\n",
              "[21 rows x 21 columns]"
            ]
          },
          "execution_count": 292,
          "metadata": {},
          "output_type": "execute_result"
        }
      ]
    },
    {
      "cell_type": "code",
      "metadata": {
        "id": "4v0qhRNc6DUg",
        "outputId": "7e159039-93e0-488d-d071-2a5190278b33"
      },
      "source": [
        "x_train.shape"
      ],
      "execution_count": null,
      "outputs": [
        {
          "data": {
            "text/plain": [
              "(2000, 20)"
            ]
          },
          "execution_count": 293,
          "metadata": {},
          "output_type": "execute_result"
        }
      ]
    },
    {
      "cell_type": "code",
      "metadata": {
        "id": "pK5piDmy6DUh"
      },
      "source": [
        "rel = abs(corr)"
      ],
      "execution_count": null,
      "outputs": []
    },
    {
      "cell_type": "code",
      "metadata": {
        "id": "IcnnD-oD6DUh"
      },
      "source": [
        "\n",
        "rel = rel['price_range'].sort_values(ascending=False)"
      ],
      "execution_count": null,
      "outputs": []
    },
    {
      "cell_type": "code",
      "metadata": {
        "id": "jyJ_3Csn6DUh"
      },
      "source": [
        "rel = rel[1:]"
      ],
      "execution_count": null,
      "outputs": []
    },
    {
      "cell_type": "code",
      "metadata": {
        "id": "iNUDxRp46DUh",
        "outputId": "c4b1d4c5-5167-4930-d6ab-8c3d37afcb2b"
      },
      "source": [
        "rel"
      ],
      "execution_count": null,
      "outputs": [
        {
          "data": {
            "text/plain": [
              "ram              0.917046\n",
              "battery_power    0.200723\n",
              "px_width         0.165818\n",
              "px_height        0.148858\n",
              "int_memory       0.044435\n",
              "sc_w             0.038711\n",
              "pc               0.033599\n",
              "touch_screen     0.030411\n",
              "mobile_wt        0.030302\n",
              "three_g          0.023611\n",
              "sc_h             0.022986\n",
              "fc               0.021998\n",
              "talk_time        0.021859\n",
              "blue             0.020573\n",
              "wifi             0.018785\n",
              "dual_sim         0.017444\n",
              "four_g           0.014772\n",
              "clock_speed      0.006606\n",
              "n_cores          0.004399\n",
              "m_dep            0.000853\n",
              "Name: price_range, dtype: float64"
            ]
          },
          "execution_count": 297,
          "metadata": {},
          "output_type": "execute_result"
        }
      ]
    },
    {
      "cell_type": "code",
      "metadata": {
        "id": "ERhdm_7u6DUi",
        "outputId": "620d210f-8570-4134-e887-6cef5967c097"
      },
      "source": [
        "useful_feature = rel[0:9]\n",
        "useful_feature = useful_feature.index\n",
        "useful_feature"
      ],
      "execution_count": null,
      "outputs": [
        {
          "data": {
            "text/plain": [
              "Index(['ram', 'battery_power', 'px_width', 'px_height', 'int_memory', 'sc_w',\n",
              "       'pc', 'touch_screen', 'mobile_wt'],\n",
              "      dtype='object')"
            ]
          },
          "execution_count": 298,
          "metadata": {},
          "output_type": "execute_result"
        }
      ]
    },
    {
      "cell_type": "code",
      "metadata": {
        "id": "3sXV4yRV6DUi"
      },
      "source": [
        "x_train = x_train[useful_feature]\n",
        "x_test = x_test[useful_feature]"
      ],
      "execution_count": null,
      "outputs": []
    },
    {
      "cell_type": "code",
      "metadata": {
        "id": "2Cf7yHpC6DUi"
      },
      "source": [
        "from sklearn.preprocessing import StandardScaler\n",
        "scaler = StandardScaler()"
      ],
      "execution_count": null,
      "outputs": []
    },
    {
      "cell_type": "code",
      "metadata": {
        "id": "j4P40fAS6DUi"
      },
      "source": [
        "x_train = scaler.fit_transform(x_train)\n",
        "x_test = scaler.fit_transform(x_test)"
      ],
      "execution_count": null,
      "outputs": []
    },
    {
      "cell_type": "code",
      "metadata": {
        "id": "pvn_vLFp6DUj",
        "outputId": "06c8866d-eb1f-4447-b650-6e14bf0db795"
      },
      "source": [
        "x_test"
      ],
      "execution_count": null,
      "outputs": [
        {
          "data": {
            "text/plain": [
              "array([[ 1.22937276, -0.47545131,  0.39191165, ...,  0.97602599,\n",
              "         1.        ,  1.53553472],\n",
              "       [ 1.61464307, -0.94278218, -0.87102753, ...,  0.31943266,\n",
              "        -1.        ,  1.47811975],\n",
              "       [ 0.23631323,  1.29207729,  0.28723561, ..., -0.99375401,\n",
              "         1.        ,  1.33458232],\n",
              "       ...,\n",
              "       [-0.84225976, -0.1469316 , -0.94384565, ...,  0.31943266,\n",
              "        -1.        , -1.7084112 ],\n",
              "       [ 0.34021668,  0.65817305, -0.92791669, ...,  0.31943266,\n",
              "         1.        ,  0.90397003],\n",
              "       [ 0.63353704,  0.04971753, -1.43764349, ...,  1.46847099,\n",
              "        -1.        ,  0.01403796]])"
            ]
          },
          "execution_count": 302,
          "metadata": {},
          "output_type": "execute_result"
        }
      ]
    },
    {
      "cell_type": "code",
      "metadata": {
        "id": "J-eOr8056DUj"
      },
      "source": [
        "from sklearn.model_selection import train_test_split"
      ],
      "execution_count": null,
      "outputs": []
    },
    {
      "cell_type": "code",
      "metadata": {
        "id": "oQJu1mUT6DUj"
      },
      "source": [
        "x_train, x_test, y_train, y_test = train_test_split(x_train, y_train, test_size=0.3, random_state=333)"
      ],
      "execution_count": null,
      "outputs": []
    },
    {
      "cell_type": "code",
      "metadata": {
        "id": "Pu_T0Hmb6DUj",
        "outputId": "10e4fc34-95c4-4c1c-9fc0-9a8b93fa2c91"
      },
      "source": [
        "print(x_train.shape, x_test.shape)\n",
        "print(y_train.shape, y_test.shape)"
      ],
      "execution_count": null,
      "outputs": [
        {
          "name": "stdout",
          "output_type": "stream",
          "text": [
            "(1400, 9) (600, 9)\n",
            "(1400,) (600,)\n"
          ]
        }
      ]
    },
    {
      "cell_type": "code",
      "metadata": {
        "id": "bAWC0xoZ6DUj"
      },
      "source": [
        "y_train = np.array(y_train)\n",
        "y_train = y_train.reshape(-1,1)"
      ],
      "execution_count": null,
      "outputs": []
    },
    {
      "cell_type": "code",
      "metadata": {
        "id": "HLc5Trag6DUk",
        "outputId": "ae6d58c5-20f5-415f-e0db-c070fdbcf861"
      },
      "source": [
        "y_train.shape"
      ],
      "execution_count": null,
      "outputs": [
        {
          "data": {
            "text/plain": [
              "(1400, 1)"
            ]
          },
          "execution_count": 307,
          "metadata": {},
          "output_type": "execute_result"
        }
      ]
    },
    {
      "cell_type": "code",
      "metadata": {
        "id": "rbANhWr36DUk"
      },
      "source": [
        "y_test = np.array(y_test)\n",
        "y_test = y_test.reshape(-1,1)"
      ],
      "execution_count": null,
      "outputs": []
    },
    {
      "cell_type": "code",
      "metadata": {
        "id": "0uYlDlJ56DUk",
        "outputId": "bf72a617-aa58-4c36-8483-b50908a7ff63"
      },
      "source": [
        "print(x_train.shape, x_test.shape)\n",
        "print(y_train.shape, y_test.shape)"
      ],
      "execution_count": null,
      "outputs": [
        {
          "name": "stdout",
          "output_type": "stream",
          "text": [
            "(1400, 9) (600, 9)\n",
            "(1400, 1) (600, 1)\n"
          ]
        }
      ]
    },
    {
      "cell_type": "code",
      "metadata": {
        "id": "HO_UeomO6DUk"
      },
      "source": [
        "from tensorflow.keras.models import Sequential\n",
        "from tensorflow.keras.layers import Dense, Dropout\n",
        "from tensorflow.keras.callbacks import TensorBoard"
      ],
      "execution_count": null,
      "outputs": []
    },
    {
      "cell_type": "code",
      "metadata": {
        "id": "dhkmVT2d6DUk"
      },
      "source": [
        "from sklearn.preprocessing import OneHotEncoder"
      ],
      "execution_count": null,
      "outputs": []
    },
    {
      "cell_type": "code",
      "metadata": {
        "id": "5C7iFZBk6DUk"
      },
      "source": [
        "hot = OneHotEncoder()"
      ],
      "execution_count": null,
      "outputs": []
    },
    {
      "cell_type": "code",
      "metadata": {
        "id": "NbAqfUP46DUl",
        "outputId": "a6366fbb-c115-49b7-af00-c09b27fa11f6"
      },
      "source": [
        "y_train"
      ],
      "execution_count": null,
      "outputs": [
        {
          "data": {
            "text/plain": [
              "array([[2],\n",
              "       [0],\n",
              "       [3],\n",
              "       ...,\n",
              "       [0],\n",
              "       [2],\n",
              "       [1]], dtype=int64)"
            ]
          },
          "execution_count": 313,
          "metadata": {},
          "output_type": "execute_result"
        }
      ]
    },
    {
      "cell_type": "code",
      "metadata": {
        "id": "YY61ejkM6DUl"
      },
      "source": [
        "y_train = hot.fit_transform(y_train).toarray()"
      ],
      "execution_count": null,
      "outputs": []
    },
    {
      "cell_type": "code",
      "metadata": {
        "id": "poi8rgmj6DUl",
        "outputId": "355c44e8-4290-429b-d4b4-bac8c5150c2c"
      },
      "source": [
        "y_train"
      ],
      "execution_count": null,
      "outputs": [
        {
          "data": {
            "text/plain": [
              "array([[0., 0., 1., 0.],\n",
              "       [1., 0., 0., 0.],\n",
              "       [0., 0., 0., 1.],\n",
              "       ...,\n",
              "       [1., 0., 0., 0.],\n",
              "       [0., 0., 1., 0.],\n",
              "       [0., 1., 0., 0.]])"
            ]
          },
          "execution_count": 315,
          "metadata": {},
          "output_type": "execute_result"
        }
      ]
    },
    {
      "cell_type": "code",
      "metadata": {
        "id": "sSOqnNp16DUl"
      },
      "source": [
        "y_test = hot.fit_transform(y_test).toarray()"
      ],
      "execution_count": null,
      "outputs": []
    },
    {
      "cell_type": "code",
      "metadata": {
        "id": "TmOMePOn6DUl",
        "outputId": "cd8b3ffc-ed6d-48bd-c22b-f2acb2b9f2a6"
      },
      "source": [
        "y_test"
      ],
      "execution_count": null,
      "outputs": [
        {
          "data": {
            "text/plain": [
              "array([[1., 0., 0., 0.],\n",
              "       [0., 0., 0., 1.],\n",
              "       [1., 0., 0., 0.],\n",
              "       ...,\n",
              "       [0., 0., 0., 1.],\n",
              "       [1., 0., 0., 0.],\n",
              "       [0., 0., 0., 1.]])"
            ]
          },
          "execution_count": 317,
          "metadata": {},
          "output_type": "execute_result"
        }
      ]
    },
    {
      "cell_type": "code",
      "metadata": {
        "id": "BAM6LCyn6DUl",
        "outputId": "c47822de-215e-4ced-8780-2b61e4978e33"
      },
      "source": [
        "print(y_train.shape, y_test.shape)"
      ],
      "execution_count": null,
      "outputs": [
        {
          "name": "stdout",
          "output_type": "stream",
          "text": [
            "(1400, 4) (600, 4)\n"
          ]
        }
      ]
    },
    {
      "cell_type": "code",
      "metadata": {
        "id": "K4DY8qzK6DUm",
        "outputId": "b0e694bd-e9f9-45ce-ac5f-4f3d168395db"
      },
      "source": [
        "y_train = np.array(y_train)\n",
        "y_test = np.array(y_test)\n",
        "y_test"
      ],
      "execution_count": null,
      "outputs": [
        {
          "data": {
            "text/plain": [
              "array([[1., 0., 0., 0.],\n",
              "       [0., 0., 0., 1.],\n",
              "       [1., 0., 0., 0.],\n",
              "       ...,\n",
              "       [0., 0., 0., 1.],\n",
              "       [1., 0., 0., 0.],\n",
              "       [0., 0., 0., 1.]])"
            ]
          },
          "execution_count": 319,
          "metadata": {},
          "output_type": "execute_result"
        }
      ]
    },
    {
      "cell_type": "code",
      "metadata": {
        "id": "na2QG8MK6DUm"
      },
      "source": [
        "name = 'train_dataset'"
      ],
      "execution_count": null,
      "outputs": []
    },
    {
      "cell_type": "code",
      "metadata": {
        "id": "mK07R8UD6DUm"
      },
      "source": [
        "tensorboard = TensorBoard(log_dir='mobile_price/{}'.format(name), histogram_freq=1, write_graph=True)"
      ],
      "execution_count": null,
      "outputs": []
    },
    {
      "cell_type": "code",
      "metadata": {
        "id": "RTpMRNAe6DUm"
      },
      "source": [
        "model = Sequential()"
      ],
      "execution_count": null,
      "outputs": []
    },
    {
      "cell_type": "code",
      "metadata": {
        "id": "DUOLkF386DUm"
      },
      "source": [
        "model.add(Dense(units=8, input_shape=(x_train.shape[1],), activation='relu'))\n",
        "model.add(Dense(units=6, activation='relu'))\n"
      ],
      "execution_count": null,
      "outputs": []
    },
    {
      "cell_type": "code",
      "metadata": {
        "id": "QpH3fK3f6DUm"
      },
      "source": [
        "model.add(Dense(units=4, activation='softmax'))"
      ],
      "execution_count": null,
      "outputs": []
    },
    {
      "cell_type": "code",
      "metadata": {
        "id": "bZeLo0QA6DUm"
      },
      "source": [
        "model.compile(optimizer='adam', loss='categorical_crossentropy', metrics=['accuracy'])"
      ],
      "execution_count": null,
      "outputs": []
    },
    {
      "cell_type": "code",
      "metadata": {
        "id": "2qmOUzPy6DUn",
        "outputId": "65e84785-c582-4547-90f2-23c08215442e"
      },
      "source": [
        "hist = model.fit(x_train, y_train, epochs=150, validation_data=(x_test, y_test), batch_size=64, callbacks=[tensorboard])"
      ],
      "execution_count": null,
      "outputs": [
        {
          "name": "stdout",
          "output_type": "stream",
          "text": [
            "Epoch 1/150\n",
            " 2/22 [=>............................] - ETA: 2s - loss: 1.4472 - accuracy: 0.2891WARNING:tensorflow:Callbacks method `on_train_batch_begin` is slow compared to the batch time (batch time: 0.0010s vs `on_train_batch_begin` time: 0.0040s). Check your callbacks.\n",
            "WARNING:tensorflow:Callbacks method `on_train_batch_end` is slow compared to the batch time (batch time: 0.0010s vs `on_train_batch_end` time: 0.2853s). Check your callbacks.\n",
            "22/22 [==============================] - 0s 22ms/step - loss: 1.4392 - accuracy: 0.2557 - val_loss: 1.4237 - val_accuracy: 0.2500\n",
            "Epoch 2/150\n",
            "22/22 [==============================] - 0s 2ms/step - loss: 1.4100 - accuracy: 0.2571 - val_loss: 1.4012 - val_accuracy: 0.2400\n",
            "Epoch 3/150\n",
            "22/22 [==============================] - 0s 2ms/step - loss: 1.3910 - accuracy: 0.2864 - val_loss: 1.3860 - val_accuracy: 0.2950\n",
            "Epoch 4/150\n",
            "22/22 [==============================] - 0s 2ms/step - loss: 1.3773 - accuracy: 0.3157 - val_loss: 1.3738 - val_accuracy: 0.3250\n",
            "Epoch 5/150\n",
            "22/22 [==============================] - 0s 2ms/step - loss: 1.3650 - accuracy: 0.3321 - val_loss: 1.3621 - val_accuracy: 0.3417\n",
            "Epoch 6/150\n",
            "22/22 [==============================] - 0s 2ms/step - loss: 1.3529 - accuracy: 0.3364 - val_loss: 1.3501 - val_accuracy: 0.3550\n",
            "Epoch 7/150\n",
            "22/22 [==============================] - 0s 2ms/step - loss: 1.3399 - accuracy: 0.3543 - val_loss: 1.3364 - val_accuracy: 0.3583\n",
            "Epoch 8/150\n",
            "22/22 [==============================] - 0s 2ms/step - loss: 1.3251 - accuracy: 0.3643 - val_loss: 1.3177 - val_accuracy: 0.3817\n",
            "Epoch 9/150\n",
            "22/22 [==============================] - 0s 2ms/step - loss: 1.3062 - accuracy: 0.3871 - val_loss: 1.2955 - val_accuracy: 0.4017\n",
            "Epoch 10/150\n",
            "22/22 [==============================] - 0s 2ms/step - loss: 1.2827 - accuracy: 0.4079 - val_loss: 1.2695 - val_accuracy: 0.4117\n",
            "Epoch 11/150\n",
            "22/22 [==============================] - 0s 2ms/step - loss: 1.2556 - accuracy: 0.4200 - val_loss: 1.2387 - val_accuracy: 0.4317\n",
            "Epoch 12/150\n",
            "22/22 [==============================] - 0s 2ms/step - loss: 1.2237 - accuracy: 0.4357 - val_loss: 1.2065 - val_accuracy: 0.4450\n",
            "Epoch 13/150\n",
            "22/22 [==============================] - 0s 2ms/step - loss: 1.1860 - accuracy: 0.4536 - val_loss: 1.1686 - val_accuracy: 0.4633\n",
            "Epoch 14/150\n",
            "22/22 [==============================] - 0s 2ms/step - loss: 1.1430 - accuracy: 0.4707 - val_loss: 1.1271 - val_accuracy: 0.4600\n",
            "Epoch 15/150\n",
            "22/22 [==============================] - 0s 2ms/step - loss: 1.0963 - accuracy: 0.4729 - val_loss: 1.0817 - val_accuracy: 0.4717\n",
            "Epoch 16/150\n",
            "22/22 [==============================] - 0s 2ms/step - loss: 1.0471 - accuracy: 0.4979 - val_loss: 1.0334 - val_accuracy: 0.4967\n",
            "Epoch 17/150\n",
            "22/22 [==============================] - 0s 2ms/step - loss: 0.9967 - accuracy: 0.5107 - val_loss: 0.9849 - val_accuracy: 0.5067\n",
            "Epoch 18/150\n",
            "22/22 [==============================] - 0s 2ms/step - loss: 0.9465 - accuracy: 0.5257 - val_loss: 0.9339 - val_accuracy: 0.5217\n",
            "Epoch 19/150\n",
            "22/22 [==============================] - 0s 2ms/step - loss: 0.8977 - accuracy: 0.5450 - val_loss: 0.8861 - val_accuracy: 0.5617\n",
            "Epoch 20/150\n",
            "22/22 [==============================] - 0s 2ms/step - loss: 0.8502 - accuracy: 0.5993 - val_loss: 0.8389 - val_accuracy: 0.6550\n",
            "Epoch 21/150\n",
            "22/22 [==============================] - 0s 2ms/step - loss: 0.8049 - accuracy: 0.6943 - val_loss: 0.7968 - val_accuracy: 0.7333\n",
            "Epoch 22/150\n",
            "22/22 [==============================] - 0s 2ms/step - loss: 0.7620 - accuracy: 0.7364 - val_loss: 0.7531 - val_accuracy: 0.7583\n",
            "Epoch 23/150\n",
            "22/22 [==============================] - 0s 2ms/step - loss: 0.7221 - accuracy: 0.7471 - val_loss: 0.7147 - val_accuracy: 0.7783\n",
            "Epoch 24/150\n",
            "22/22 [==============================] - 0s 2ms/step - loss: 0.6845 - accuracy: 0.7593 - val_loss: 0.6787 - val_accuracy: 0.7783\n",
            "Epoch 25/150\n",
            "22/22 [==============================] - 0s 2ms/step - loss: 0.6496 - accuracy: 0.7686 - val_loss: 0.6440 - val_accuracy: 0.7900\n",
            "Epoch 26/150\n",
            "22/22 [==============================] - 0s 2ms/step - loss: 0.6170 - accuracy: 0.7771 - val_loss: 0.6119 - val_accuracy: 0.8050\n",
            "Epoch 27/150\n",
            "22/22 [==============================] - 0s 3ms/step - loss: 0.5862 - accuracy: 0.8021 - val_loss: 0.5802 - val_accuracy: 0.8250\n",
            "Epoch 28/150\n",
            "22/22 [==============================] - 0s 2ms/step - loss: 0.5575 - accuracy: 0.8086 - val_loss: 0.5522 - val_accuracy: 0.8367\n",
            "Epoch 29/150\n",
            "22/22 [==============================] - 0s 2ms/step - loss: 0.5313 - accuracy: 0.8286 - val_loss: 0.5246 - val_accuracy: 0.8467\n",
            "Epoch 30/150\n",
            "22/22 [==============================] - 0s 2ms/step - loss: 0.5059 - accuracy: 0.8364 - val_loss: 0.5024 - val_accuracy: 0.8567\n",
            "Epoch 31/150\n",
            "22/22 [==============================] - 0s 2ms/step - loss: 0.4818 - accuracy: 0.8500 - val_loss: 0.4765 - val_accuracy: 0.8717\n",
            "Epoch 32/150\n",
            "22/22 [==============================] - 0s 2ms/step - loss: 0.4591 - accuracy: 0.8621 - val_loss: 0.4547 - val_accuracy: 0.8883\n",
            "Epoch 33/150\n",
            "22/22 [==============================] - 0s 2ms/step - loss: 0.4379 - accuracy: 0.8771 - val_loss: 0.4350 - val_accuracy: 0.8950\n",
            "Epoch 34/150\n",
            "22/22 [==============================] - 0s 2ms/step - loss: 0.4177 - accuracy: 0.8800 - val_loss: 0.4146 - val_accuracy: 0.8967\n",
            "Epoch 35/150\n",
            "22/22 [==============================] - 0s 2ms/step - loss: 0.3988 - accuracy: 0.8886 - val_loss: 0.3965 - val_accuracy: 0.9067\n",
            "Epoch 36/150\n",
            "22/22 [==============================] - 0s 2ms/step - loss: 0.3819 - accuracy: 0.8893 - val_loss: 0.3792 - val_accuracy: 0.9083\n",
            "Epoch 37/150\n",
            "22/22 [==============================] - 0s 2ms/step - loss: 0.3639 - accuracy: 0.9000 - val_loss: 0.3642 - val_accuracy: 0.9117\n",
            "Epoch 38/150\n",
            "22/22 [==============================] - 0s 2ms/step - loss: 0.3486 - accuracy: 0.9043 - val_loss: 0.3486 - val_accuracy: 0.9150\n",
            "Epoch 39/150\n",
            "22/22 [==============================] - 0s 2ms/step - loss: 0.3335 - accuracy: 0.9129 - val_loss: 0.3331 - val_accuracy: 0.9250\n",
            "Epoch 40/150\n",
            "22/22 [==============================] - 0s 2ms/step - loss: 0.3192 - accuracy: 0.9136 - val_loss: 0.3219 - val_accuracy: 0.9183\n",
            "Epoch 41/150\n",
            "22/22 [==============================] - 0s 2ms/step - loss: 0.3055 - accuracy: 0.9186 - val_loss: 0.3077 - val_accuracy: 0.9300\n",
            "Epoch 42/150\n",
            "22/22 [==============================] - 0s 2ms/step - loss: 0.2919 - accuracy: 0.9221 - val_loss: 0.2965 - val_accuracy: 0.9283\n",
            "Epoch 43/150\n",
            "22/22 [==============================] - 0s 2ms/step - loss: 0.2800 - accuracy: 0.9321 - val_loss: 0.2860 - val_accuracy: 0.9267\n",
            "Epoch 44/150\n",
            "22/22 [==============================] - 0s 2ms/step - loss: 0.2681 - accuracy: 0.9307 - val_loss: 0.2742 - val_accuracy: 0.9367\n",
            "Epoch 45/150\n",
            "22/22 [==============================] - 0s 2ms/step - loss: 0.2574 - accuracy: 0.9357 - val_loss: 0.2654 - val_accuracy: 0.9400\n",
            "Epoch 46/150\n",
            "22/22 [==============================] - 0s 3ms/step - loss: 0.2492 - accuracy: 0.9314 - val_loss: 0.2559 - val_accuracy: 0.9400\n",
            "Epoch 47/150\n",
            "22/22 [==============================] - 0s 2ms/step - loss: 0.2387 - accuracy: 0.9379 - val_loss: 0.2488 - val_accuracy: 0.9417\n",
            "Epoch 48/150\n",
            "22/22 [==============================] - 0s 2ms/step - loss: 0.2305 - accuracy: 0.9429 - val_loss: 0.2405 - val_accuracy: 0.9433\n",
            "Epoch 49/150\n",
            "22/22 [==============================] - 0s 2ms/step - loss: 0.2229 - accuracy: 0.9450 - val_loss: 0.2333 - val_accuracy: 0.9417\n",
            "Epoch 50/150\n",
            "22/22 [==============================] - 0s 2ms/step - loss: 0.2163 - accuracy: 0.9436 - val_loss: 0.2284 - val_accuracy: 0.9400\n",
            "Epoch 51/150\n",
            "22/22 [==============================] - 0s 2ms/step - loss: 0.2095 - accuracy: 0.9486 - val_loss: 0.2212 - val_accuracy: 0.9467\n",
            "Epoch 52/150\n",
            "22/22 [==============================] - 0s 2ms/step - loss: 0.2037 - accuracy: 0.9493 - val_loss: 0.2162 - val_accuracy: 0.9433\n",
            "Epoch 53/150\n",
            "22/22 [==============================] - 0s 2ms/step - loss: 0.1986 - accuracy: 0.9507 - val_loss: 0.2120 - val_accuracy: 0.9483\n",
            "Epoch 54/150\n",
            "22/22 [==============================] - 0s 2ms/step - loss: 0.1934 - accuracy: 0.9529 - val_loss: 0.2056 - val_accuracy: 0.9467\n",
            "Epoch 55/150\n",
            "22/22 [==============================] - 0s 2ms/step - loss: 0.1894 - accuracy: 0.9529 - val_loss: 0.1993 - val_accuracy: 0.9450\n"
          ]
        },
        {
          "name": "stdout",
          "output_type": "stream",
          "text": [
            "Epoch 56/150\n",
            "22/22 [==============================] - 0s 2ms/step - loss: 0.1830 - accuracy: 0.9536 - val_loss: 0.1978 - val_accuracy: 0.9500\n",
            "Epoch 57/150\n",
            "22/22 [==============================] - 0s 2ms/step - loss: 0.1781 - accuracy: 0.9564 - val_loss: 0.1931 - val_accuracy: 0.9450\n",
            "Epoch 58/150\n",
            "22/22 [==============================] - 0s 2ms/step - loss: 0.1747 - accuracy: 0.9579 - val_loss: 0.1881 - val_accuracy: 0.9467\n",
            "Epoch 59/150\n",
            "22/22 [==============================] - 0s 2ms/step - loss: 0.1709 - accuracy: 0.9593 - val_loss: 0.1833 - val_accuracy: 0.9483\n",
            "Epoch 60/150\n",
            "22/22 [==============================] - 0s 2ms/step - loss: 0.1669 - accuracy: 0.9586 - val_loss: 0.1833 - val_accuracy: 0.9467\n",
            "Epoch 61/150\n",
            "22/22 [==============================] - 0s 2ms/step - loss: 0.1629 - accuracy: 0.9629 - val_loss: 0.1756 - val_accuracy: 0.9483\n",
            "Epoch 62/150\n",
            "22/22 [==============================] - 0s 2ms/step - loss: 0.1594 - accuracy: 0.9629 - val_loss: 0.1752 - val_accuracy: 0.9483\n",
            "Epoch 63/150\n",
            "22/22 [==============================] - 0s 2ms/step - loss: 0.1556 - accuracy: 0.9643 - val_loss: 0.1721 - val_accuracy: 0.9500\n",
            "Epoch 64/150\n",
            "22/22 [==============================] - 0s 2ms/step - loss: 0.1524 - accuracy: 0.9643 - val_loss: 0.1689 - val_accuracy: 0.9483\n",
            "Epoch 65/150\n",
            "22/22 [==============================] - 0s 2ms/step - loss: 0.1499 - accuracy: 0.9636 - val_loss: 0.1637 - val_accuracy: 0.9450\n",
            "Epoch 66/150\n",
            "22/22 [==============================] - 0s 2ms/step - loss: 0.1468 - accuracy: 0.9657 - val_loss: 0.1634 - val_accuracy: 0.9500\n",
            "Epoch 67/150\n",
            "22/22 [==============================] - 0s 2ms/step - loss: 0.1436 - accuracy: 0.9650 - val_loss: 0.1582 - val_accuracy: 0.9483\n",
            "Epoch 68/150\n",
            "22/22 [==============================] - 0s 2ms/step - loss: 0.1410 - accuracy: 0.9657 - val_loss: 0.1593 - val_accuracy: 0.9450\n",
            "Epoch 69/150\n",
            "22/22 [==============================] - 0s 2ms/step - loss: 0.1389 - accuracy: 0.9664 - val_loss: 0.1547 - val_accuracy: 0.9483\n",
            "Epoch 70/150\n",
            "22/22 [==============================] - 0s 2ms/step - loss: 0.1363 - accuracy: 0.9679 - val_loss: 0.1550 - val_accuracy: 0.9483\n",
            "Epoch 71/150\n",
            "22/22 [==============================] - ETA: 0s - loss: 0.1449 - accuracy: 0.96 - 0s 2ms/step - loss: 0.1342 - accuracy: 0.9700 - val_loss: 0.1505 - val_accuracy: 0.9467\n",
            "Epoch 72/150\n",
            "22/22 [==============================] - 0s 2ms/step - loss: 0.1319 - accuracy: 0.9714 - val_loss: 0.1503 - val_accuracy: 0.9500\n",
            "Epoch 73/150\n",
            "22/22 [==============================] - 0s 2ms/step - loss: 0.1295 - accuracy: 0.9707 - val_loss: 0.1462 - val_accuracy: 0.9483\n",
            "Epoch 74/150\n",
            "22/22 [==============================] - 0s 2ms/step - loss: 0.1273 - accuracy: 0.9707 - val_loss: 0.1444 - val_accuracy: 0.9500\n",
            "Epoch 75/150\n",
            "22/22 [==============================] - 0s 2ms/step - loss: 0.1256 - accuracy: 0.9700 - val_loss: 0.1417 - val_accuracy: 0.9500\n",
            "Epoch 76/150\n",
            "22/22 [==============================] - 0s 2ms/step - loss: 0.1228 - accuracy: 0.9729 - val_loss: 0.1411 - val_accuracy: 0.9517\n",
            "Epoch 77/150\n",
            "22/22 [==============================] - 0s 2ms/step - loss: 0.1209 - accuracy: 0.9714 - val_loss: 0.1385 - val_accuracy: 0.9533\n",
            "Epoch 78/150\n",
            "22/22 [==============================] - 0s 2ms/step - loss: 0.1192 - accuracy: 0.9729 - val_loss: 0.1366 - val_accuracy: 0.9483\n",
            "Epoch 79/150\n",
            "22/22 [==============================] - 0s 2ms/step - loss: 0.1173 - accuracy: 0.9729 - val_loss: 0.1369 - val_accuracy: 0.9500\n",
            "Epoch 80/150\n",
            "22/22 [==============================] - 0s 2ms/step - loss: 0.1153 - accuracy: 0.9729 - val_loss: 0.1326 - val_accuracy: 0.9533\n",
            "Epoch 81/150\n",
            "22/22 [==============================] - 0s 2ms/step - loss: 0.1143 - accuracy: 0.9721 - val_loss: 0.1319 - val_accuracy: 0.9517\n",
            "Epoch 82/150\n",
            "22/22 [==============================] - 0s 2ms/step - loss: 0.1129 - accuracy: 0.9707 - val_loss: 0.1315 - val_accuracy: 0.9533\n",
            "Epoch 83/150\n",
            "22/22 [==============================] - 0s 2ms/step - loss: 0.1110 - accuracy: 0.9729 - val_loss: 0.1293 - val_accuracy: 0.9517\n",
            "Epoch 84/150\n",
            "22/22 [==============================] - 0s 2ms/step - loss: 0.1098 - accuracy: 0.9743 - val_loss: 0.1265 - val_accuracy: 0.9533\n",
            "Epoch 85/150\n",
            "22/22 [==============================] - 0s 2ms/step - loss: 0.1079 - accuracy: 0.9736 - val_loss: 0.1261 - val_accuracy: 0.9550\n",
            "Epoch 86/150\n",
            "22/22 [==============================] - 0s 2ms/step - loss: 0.1062 - accuracy: 0.9757 - val_loss: 0.1266 - val_accuracy: 0.9550\n",
            "Epoch 87/150\n",
            "22/22 [==============================] - 0s 2ms/step - loss: 0.1057 - accuracy: 0.9736 - val_loss: 0.1212 - val_accuracy: 0.9567\n",
            "Epoch 88/150\n",
            "22/22 [==============================] - 0s 2ms/step - loss: 0.1040 - accuracy: 0.9700 - val_loss: 0.1237 - val_accuracy: 0.9550\n",
            "Epoch 89/150\n",
            "22/22 [==============================] - 0s 2ms/step - loss: 0.1019 - accuracy: 0.9757 - val_loss: 0.1205 - val_accuracy: 0.9600\n",
            "Epoch 90/150\n",
            "22/22 [==============================] - 0s 2ms/step - loss: 0.1012 - accuracy: 0.9743 - val_loss: 0.1205 - val_accuracy: 0.9567\n",
            "Epoch 91/150\n",
            "22/22 [==============================] - 0s 2ms/step - loss: 0.0999 - accuracy: 0.9764 - val_loss: 0.1175 - val_accuracy: 0.9567\n",
            "Epoch 92/150\n",
            "22/22 [==============================] - 0s 2ms/step - loss: 0.0980 - accuracy: 0.9757 - val_loss: 0.1198 - val_accuracy: 0.9583\n",
            "Epoch 93/150\n",
            "22/22 [==============================] - 0s 2ms/step - loss: 0.0979 - accuracy: 0.9764 - val_loss: 0.1172 - val_accuracy: 0.9567\n",
            "Epoch 94/150\n",
            "22/22 [==============================] - 0s 2ms/step - loss: 0.0971 - accuracy: 0.9764 - val_loss: 0.1148 - val_accuracy: 0.9617\n",
            "Epoch 95/150\n",
            "22/22 [==============================] - 0s 2ms/step - loss: 0.0956 - accuracy: 0.9764 - val_loss: 0.1160 - val_accuracy: 0.9567\n",
            "Epoch 96/150\n",
            "22/22 [==============================] - 0s 2ms/step - loss: 0.0938 - accuracy: 0.9743 - val_loss: 0.1142 - val_accuracy: 0.9567\n",
            "Epoch 97/150\n",
            "22/22 [==============================] - 0s 2ms/step - loss: 0.0928 - accuracy: 0.9779 - val_loss: 0.1141 - val_accuracy: 0.9567\n",
            "Epoch 98/150\n",
            "22/22 [==============================] - 0s 2ms/step - loss: 0.0920 - accuracy: 0.9786 - val_loss: 0.1132 - val_accuracy: 0.9567\n",
            "Epoch 99/150\n",
            "22/22 [==============================] - 0s 2ms/step - loss: 0.0908 - accuracy: 0.9779 - val_loss: 0.1122 - val_accuracy: 0.9567\n",
            "Epoch 100/150\n",
            "22/22 [==============================] - 0s 2ms/step - loss: 0.0904 - accuracy: 0.9771 - val_loss: 0.1112 - val_accuracy: 0.9583\n",
            "Epoch 101/150\n",
            "22/22 [==============================] - 0s 2ms/step - loss: 0.0889 - accuracy: 0.9779 - val_loss: 0.1104 - val_accuracy: 0.9600\n",
            "Epoch 102/150\n",
            "22/22 [==============================] - 0s 3ms/step - loss: 0.0881 - accuracy: 0.9786 - val_loss: 0.1078 - val_accuracy: 0.9583\n",
            "Epoch 103/150\n",
            "22/22 [==============================] - 0s 2ms/step - loss: 0.0875 - accuracy: 0.9779 - val_loss: 0.1085 - val_accuracy: 0.9600\n",
            "Epoch 104/150\n",
            "22/22 [==============================] - 0s 2ms/step - loss: 0.0865 - accuracy: 0.9786 - val_loss: 0.1092 - val_accuracy: 0.9567\n",
            "Epoch 105/150\n",
            "22/22 [==============================] - 0s 2ms/step - loss: 0.0863 - accuracy: 0.9793 - val_loss: 0.1070 - val_accuracy: 0.9583\n",
            "Epoch 106/150\n",
            "22/22 [==============================] - 0s 2ms/step - loss: 0.0851 - accuracy: 0.9786 - val_loss: 0.1067 - val_accuracy: 0.9583\n",
            "Epoch 107/150\n",
            "22/22 [==============================] - 0s 2ms/step - loss: 0.0844 - accuracy: 0.9786 - val_loss: 0.1081 - val_accuracy: 0.9583\n",
            "Epoch 108/150\n",
            "22/22 [==============================] - 0s 2ms/step - loss: 0.0838 - accuracy: 0.9786 - val_loss: 0.1061 - val_accuracy: 0.9567\n",
            "Epoch 109/150\n",
            "22/22 [==============================] - 0s 2ms/step - loss: 0.0823 - accuracy: 0.9807 - val_loss: 0.1051 - val_accuracy: 0.9583\n",
            "Epoch 110/150\n",
            "22/22 [==============================] - 0s 2ms/step - loss: 0.0825 - accuracy: 0.9771 - val_loss: 0.1053 - val_accuracy: 0.9583\n",
            "Epoch 111/150\n",
            "22/22 [==============================] - 0s 2ms/step - loss: 0.0812 - accuracy: 0.9793 - val_loss: 0.1044 - val_accuracy: 0.9600\n",
            "Epoch 112/150\n",
            "22/22 [==============================] - 0s 2ms/step - loss: 0.0800 - accuracy: 0.9814 - val_loss: 0.1024 - val_accuracy: 0.9583\n",
            "Epoch 113/150\n",
            "22/22 [==============================] - 0s 2ms/step - loss: 0.0798 - accuracy: 0.9800 - val_loss: 0.1030 - val_accuracy: 0.9600\n",
            "Epoch 114/150\n",
            "22/22 [==============================] - 0s 2ms/step - loss: 0.0787 - accuracy: 0.9821 - val_loss: 0.1013 - val_accuracy: 0.9617\n",
            "Epoch 115/150\n",
            "22/22 [==============================] - ETA: 0s - loss: 0.1137 - accuracy: 0.95 - 0s 2ms/step - loss: 0.0781 - accuracy: 0.9843 - val_loss: 0.1035 - val_accuracy: 0.9583\n",
            "Epoch 116/150\n",
            "22/22 [==============================] - 0s 2ms/step - loss: 0.0774 - accuracy: 0.9829 - val_loss: 0.0998 - val_accuracy: 0.9583\n",
            "Epoch 117/150\n",
            "22/22 [==============================] - 0s 2ms/step - loss: 0.0773 - accuracy: 0.9821 - val_loss: 0.0986 - val_accuracy: 0.9617\n",
            "Epoch 118/150\n",
            "22/22 [==============================] - 0s 2ms/step - loss: 0.0762 - accuracy: 0.9836 - val_loss: 0.1019 - val_accuracy: 0.9600\n",
            "Epoch 119/150\n",
            "22/22 [==============================] - 0s 2ms/step - loss: 0.0763 - accuracy: 0.9829 - val_loss: 0.0991 - val_accuracy: 0.9617\n",
            "Epoch 120/150\n",
            "22/22 [==============================] - 0s 2ms/step - loss: 0.0754 - accuracy: 0.9836 - val_loss: 0.0989 - val_accuracy: 0.9633\n",
            "Epoch 121/150\n",
            "22/22 [==============================] - 0s 2ms/step - loss: 0.0754 - accuracy: 0.9821 - val_loss: 0.0972 - val_accuracy: 0.9600\n",
            "Epoch 122/150\n",
            "22/22 [==============================] - 0s 2ms/step - loss: 0.0742 - accuracy: 0.9836 - val_loss: 0.0983 - val_accuracy: 0.9600\n",
            "Epoch 123/150\n",
            "22/22 [==============================] - 0s 2ms/step - loss: 0.0736 - accuracy: 0.9829 - val_loss: 0.0974 - val_accuracy: 0.9583\n",
            "Epoch 124/150\n",
            "22/22 [==============================] - 0s 2ms/step - loss: 0.0729 - accuracy: 0.9836 - val_loss: 0.0979 - val_accuracy: 0.9617\n",
            "Epoch 125/150\n",
            "22/22 [==============================] - 0s 2ms/step - loss: 0.0723 - accuracy: 0.9814 - val_loss: 0.0964 - val_accuracy: 0.9600\n",
            "Epoch 126/150\n",
            "22/22 [==============================] - 0s 2ms/step - loss: 0.0718 - accuracy: 0.9821 - val_loss: 0.0954 - val_accuracy: 0.9600\n",
            "Epoch 127/150\n",
            "22/22 [==============================] - 0s 2ms/step - loss: 0.0717 - accuracy: 0.9836 - val_loss: 0.0950 - val_accuracy: 0.9617\n",
            "Epoch 128/150\n",
            "22/22 [==============================] - 0s 2ms/step - loss: 0.0716 - accuracy: 0.9807 - val_loss: 0.0977 - val_accuracy: 0.9617\n",
            "Epoch 129/150\n",
            "22/22 [==============================] - 0s 2ms/step - loss: 0.0706 - accuracy: 0.9843 - val_loss: 0.0942 - val_accuracy: 0.9583\n",
            "Epoch 130/150\n",
            "22/22 [==============================] - 0s 2ms/step - loss: 0.0701 - accuracy: 0.9836 - val_loss: 0.0939 - val_accuracy: 0.9600\n",
            "Epoch 131/150\n",
            "22/22 [==============================] - 0s 2ms/step - loss: 0.0696 - accuracy: 0.9843 - val_loss: 0.0936 - val_accuracy: 0.9600\n",
            "Epoch 132/150\n",
            "22/22 [==============================] - 0s 2ms/step - loss: 0.0692 - accuracy: 0.9843 - val_loss: 0.0931 - val_accuracy: 0.9633\n",
            "Epoch 133/150\n",
            "22/22 [==============================] - 0s 2ms/step - loss: 0.0685 - accuracy: 0.9821 - val_loss: 0.0931 - val_accuracy: 0.9617\n",
            "Epoch 134/150\n",
            "22/22 [==============================] - 0s 2ms/step - loss: 0.0681 - accuracy: 0.9829 - val_loss: 0.0956 - val_accuracy: 0.9600\n",
            "Epoch 135/150\n",
            "22/22 [==============================] - 0s 2ms/step - loss: 0.0682 - accuracy: 0.9850 - val_loss: 0.0942 - val_accuracy: 0.9633\n",
            "Epoch 136/150\n",
            "22/22 [==============================] - 0s 2ms/step - loss: 0.0671 - accuracy: 0.9836 - val_loss: 0.0943 - val_accuracy: 0.9617\n",
            "Epoch 137/150\n",
            "22/22 [==============================] - 0s 2ms/step - loss: 0.0670 - accuracy: 0.9836 - val_loss: 0.0897 - val_accuracy: 0.9633\n",
            "Epoch 138/150\n",
            "22/22 [==============================] - 0s 2ms/step - loss: 0.0659 - accuracy: 0.9836 - val_loss: 0.0940 - val_accuracy: 0.9617\n",
            "Epoch 139/150\n",
            "22/22 [==============================] - 0s 2ms/step - loss: 0.0659 - accuracy: 0.9850 - val_loss: 0.0913 - val_accuracy: 0.9617\n",
            "Epoch 140/150\n",
            "22/22 [==============================] - 0s 2ms/step - loss: 0.0652 - accuracy: 0.9829 - val_loss: 0.0912 - val_accuracy: 0.9617\n",
            "Epoch 141/150\n",
            "22/22 [==============================] - 0s 2ms/step - loss: 0.0651 - accuracy: 0.9836 - val_loss: 0.0904 - val_accuracy: 0.9633\n",
            "Epoch 142/150\n",
            "22/22 [==============================] - 0s 2ms/step - loss: 0.0649 - accuracy: 0.9843 - val_loss: 0.0919 - val_accuracy: 0.9617\n",
            "Epoch 143/150\n",
            "22/22 [==============================] - 0s 2ms/step - loss: 0.0641 - accuracy: 0.9836 - val_loss: 0.0901 - val_accuracy: 0.9617\n",
            "Epoch 144/150\n",
            "22/22 [==============================] - 0s 2ms/step - loss: 0.0634 - accuracy: 0.9850 - val_loss: 0.0907 - val_accuracy: 0.9633\n",
            "Epoch 145/150\n",
            "22/22 [==============================] - 0s 2ms/step - loss: 0.0627 - accuracy: 0.9836 - val_loss: 0.0883 - val_accuracy: 0.9650\n",
            "Epoch 146/150\n",
            "22/22 [==============================] - 0s 2ms/step - loss: 0.0634 - accuracy: 0.9843 - val_loss: 0.0885 - val_accuracy: 0.9650\n",
            "Epoch 147/150\n",
            "22/22 [==============================] - 0s 2ms/step - loss: 0.0624 - accuracy: 0.9864 - val_loss: 0.0884 - val_accuracy: 0.9600\n",
            "Epoch 148/150\n",
            "22/22 [==============================] - 0s 2ms/step - loss: 0.0629 - accuracy: 0.9814 - val_loss: 0.0884 - val_accuracy: 0.9617\n",
            "Epoch 149/150\n",
            "22/22 [==============================] - 0s 2ms/step - loss: 0.0626 - accuracy: 0.9843 - val_loss: 0.0886 - val_accuracy: 0.9600\n",
            "Epoch 150/150\n",
            "22/22 [==============================] - 0s 2ms/step - loss: 0.0622 - accuracy: 0.9843 - val_loss: 0.0864 - val_accuracy: 0.9650\n"
          ]
        }
      ]
    },
    {
      "cell_type": "code",
      "metadata": {
        "id": "tMgaEelV6DUn"
      },
      "source": [
        "y_pred = model.predict(x_test)"
      ],
      "execution_count": null,
      "outputs": []
    },
    {
      "cell_type": "code",
      "metadata": {
        "id": "fb3-rLoH6DUn"
      },
      "source": [
        ""
      ],
      "execution_count": null,
      "outputs": []
    },
    {
      "cell_type": "code",
      "metadata": {
        "id": "Ugu2FLgN6DUn"
      },
      "source": [
        "from sklearn.metrics import confusion_matrix, accuracy_score"
      ],
      "execution_count": null,
      "outputs": []
    },
    {
      "cell_type": "code",
      "metadata": {
        "id": "KGe_0Rff6DUn"
      },
      "source": [
        "con = confusion_matrix(y_test.argmax(axis=1), y_pred.argmax(axis=1))"
      ],
      "execution_count": null,
      "outputs": []
    },
    {
      "cell_type": "code",
      "metadata": {
        "id": "QsRIfFj26DUn",
        "outputId": "ec1df12c-7fd2-4288-dca0-020c61680e0c"
      },
      "source": [
        "con"
      ],
      "execution_count": null,
      "outputs": [
        {
          "data": {
            "text/plain": [
              "array([[156,   3,   0,   0],\n",
              "       [  1, 136,   7,   0],\n",
              "       [  0,   4, 147,   2],\n",
              "       [  0,   0,   4, 140]], dtype=int64)"
            ]
          },
          "execution_count": 330,
          "metadata": {},
          "output_type": "execute_result"
        }
      ]
    },
    {
      "cell_type": "code",
      "metadata": {
        "id": "QHcicwZs6DUn",
        "outputId": "4cf1fe25-e54c-40b5-96cb-d7f5e81e1ffd"
      },
      "source": [
        "sns.heatmap(con, annot=True, fmt='g')"
      ],
      "execution_count": null,
      "outputs": [
        {
          "data": {
            "text/plain": [
              "<AxesSubplot:>"
            ]
          },
          "execution_count": 331,
          "metadata": {},
          "output_type": "execute_result"
        },
        {
          "data": {
            "image/png": "[encoded data removed]",
            "text/plain": [
              "<Figure size 432x288 with 2 Axes>"
            ]
          },
          "metadata": {
            "needs_background": "light"
          },
          "output_type": "display_data"
        }
      ]
    },
    {
      "cell_type": "code",
      "metadata": {
        "id": "7hJLRb116DUo",
        "outputId": "06277eb5-c0ff-4552-e675-a7a1a0807e9b"
      },
      "source": [
        "acc = accuracy_score(y_test.argmax(axis=1), y_pred.argmax(axis=1))\n",
        "acc"
      ],
      "execution_count": null,
      "outputs": [
        {
          "data": {
            "text/plain": [
              "0.965"
            ]
          },
          "execution_count": 332,
          "metadata": {},
          "output_type": "execute_result"
        }
      ]
    },
    {
      "cell_type": "code",
      "metadata": {
        "id": "I40Op1Av6DUo"
      },
      "source": [
        ""
      ],
      "execution_count": null,
      "outputs": []
    },
    {
      "cell_type": "code",
      "metadata": {
        "id": "bg2Yl1io6DUo",
        "outputId": "2bb3adb0-54cf-48d0-f435-c707fd2dee6c"
      },
      "source": [
        "y_test.argmax(axis=1)"
      ],
      "execution_count": null,
      "outputs": [
        {
          "data": {
            "text/plain": [
              "array([0, 3, 0, 2, 3, 2, 1, 0, 0, 1, 1, 3, 1, 1, 0, 3, 1, 2, 0, 2, 2, 2,\n",
              "       0, 0, 0, 3, 0, 3, 0, 2, 1, 2, 0, 3, 3, 1, 3, 2, 3, 2, 2, 3, 2, 0,\n",
              "       1, 1, 2, 2, 1, 1, 2, 0, 2, 2, 3, 3, 1, 0, 3, 2, 0, 1, 2, 2, 0, 0,\n",
              "       0, 2, 1, 2, 0, 0, 2, 2, 0, 3, 2, 2, 2, 0, 0, 0, 3, 3, 1, 2, 1, 3,\n",
              "       2, 3, 2, 1, 2, 2, 2, 0, 1, 0, 2, 3, 0, 2, 2, 1, 0, 3, 2, 0, 0, 3,\n",
              "       2, 1, 1, 1, 2, 0, 3, 1, 1, 0, 2, 1, 2, 3, 0, 1, 0, 0, 1, 1, 0, 3,\n",
              "       1, 3, 0, 2, 2, 0, 1, 2, 2, 2, 3, 0, 3, 0, 3, 2, 2, 2, 0, 1, 3, 0,\n",
              "       0, 3, 1, 2, 0, 3, 0, 2, 3, 1, 1, 1, 2, 3, 2, 2, 1, 3, 2, 1, 1, 1,\n",
              "       0, 1, 3, 1, 3, 3, 3, 0, 1, 1, 0, 3, 0, 1, 0, 1, 1, 1, 0, 0, 3, 3,\n",
              "       0, 2, 3, 1, 2, 3, 0, 3, 0, 3, 0, 2, 2, 2, 3, 1, 2, 1, 3, 3, 0, 3,\n",
              "       2, 1, 2, 0, 3, 0, 0, 1, 3, 2, 2, 1, 2, 1, 1, 3, 0, 3, 2, 1, 3, 1,\n",
              "       3, 3, 0, 1, 1, 0, 0, 3, 2, 1, 1, 0, 3, 2, 3, 2, 1, 3, 0, 0, 0, 2,\n",
              "       1, 1, 0, 2, 2, 2, 2, 1, 3, 3, 0, 2, 0, 2, 3, 2, 0, 1, 1, 1, 3, 0,\n",
              "       0, 0, 3, 1, 1, 2, 0, 1, 1, 2, 0, 1, 3, 1, 3, 0, 3, 1, 1, 0, 3, 3,\n",
              "       1, 3, 1, 1, 3, 3, 3, 2, 2, 2, 3, 3, 0, 2, 0, 2, 0, 3, 1, 3, 0, 3,\n",
              "       2, 3, 0, 0, 2, 1, 2, 3, 0, 2, 1, 0, 2, 0, 3, 2, 1, 2, 0, 3, 1, 3,\n",
              "       0, 1, 3, 2, 0, 1, 2, 2, 1, 1, 1, 1, 0, 1, 1, 2, 2, 0, 3, 0, 2, 3,\n",
              "       0, 0, 2, 3, 1, 3, 1, 0, 2, 2, 2, 3, 1, 0, 0, 3, 1, 1, 0, 1, 2, 0,\n",
              "       2, 1, 2, 2, 1, 0, 0, 0, 3, 1, 1, 1, 2, 0, 3, 1, 0, 2, 1, 1, 2, 0,\n",
              "       3, 1, 2, 3, 2, 1, 1, 3, 2, 1, 3, 3, 3, 3, 0, 2, 1, 1, 0, 1, 1, 1,\n",
              "       2, 0, 1, 3, 0, 0, 3, 3, 3, 3, 2, 2, 0, 1, 1, 0, 1, 3, 1, 1, 2, 1,\n",
              "       2, 2, 0, 2, 1, 3, 0, 1, 3, 0, 2, 0, 3, 3, 3, 2, 0, 0, 3, 0, 3, 2,\n",
              "       0, 2, 0, 0, 3, 1, 1, 0, 0, 0, 2, 0, 3, 2, 1, 0, 0, 3, 2, 2, 3, 0,\n",
              "       1, 1, 2, 3, 3, 0, 3, 1, 0, 3, 2, 1, 2, 1, 3, 2, 0, 0, 3, 2, 2, 3,\n",
              "       3, 1, 2, 0, 0, 0, 0, 2, 0, 3, 3, 3, 2, 1, 0, 3, 0, 0, 1, 0, 0, 1,\n",
              "       3, 1, 2, 0, 0, 0, 0, 2, 1, 3, 2, 2, 0, 2, 2, 3, 2, 0, 2, 0, 2, 0,\n",
              "       3, 2, 1, 2, 2, 3, 3, 3, 3, 2, 1, 0, 2, 0, 1, 3, 1, 3, 3, 0, 1, 0,\n",
              "       2, 3, 2, 3, 0, 3], dtype=int64)"
            ]
          },
          "execution_count": 333,
          "metadata": {},
          "output_type": "execute_result"
        }
      ]
    },
    {
      "cell_type": "code",
      "metadata": {
        "id": "BMfFUWIh6DUo",
        "outputId": "b8364474-e0c4-4b2b-8815-52ee50902106"
      },
      "source": [
        "y_test.argmax(axis=1)[1]"
      ],
      "execution_count": null,
      "outputs": [
        {
          "data": {
            "text/plain": [
              "3"
            ]
          },
          "execution_count": 263,
          "metadata": {},
          "output_type": "execute_result"
        }
      ]
    },
    {
      "cell_type": "code",
      "metadata": {
        "id": "Mu7ycdkt6DUo"
      },
      "source": [
        "from sklearn.linear_model import LinearRegression"
      ],
      "execution_count": null,
      "outputs": []
    },
    {
      "cell_type": "code",
      "metadata": {
        "id": "Fku-zRet6DUo"
      },
      "source": [
        "x = x_train.drop('')"
      ],
      "execution_count": null,
      "outputs": []
    }
  ]
}